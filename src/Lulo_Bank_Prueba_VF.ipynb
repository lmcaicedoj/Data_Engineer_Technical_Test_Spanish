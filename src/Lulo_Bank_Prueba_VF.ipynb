{
 "cells": [
  {
   "cell_type": "markdown",
   "metadata": {},
   "source": [
    "# LULO BANK: Prueba de Seleccion"
   ]
  },
  {
   "cell_type": "markdown",
   "metadata": {},
   "source": [
    "## (0) Importe de Librerias"
   ]
  },
  {
   "cell_type": "code",
   "execution_count": 2,
   "metadata": {},
   "outputs": [],
   "source": [
    "import pandas as pd\n",
    "from pandas import json_normalize\n",
    "import numpy as np\n",
    "import matplotlib\n",
    "import matplotlib.pyplot as plt\n",
    "plt.style.use ('ggplot')\n",
    "from matplotlib.pyplot import figure\n",
    "\n",
    "import requests\n",
    "import json\n",
    "from functools import reduce\n",
    "\n",
    "import pandas_profiling as pp\n",
    "import seaborn as sns\n",
    "import warnings\n",
    "import os\n",
    "warnings.filterwarnings('ignore')\n",
    "import datetime\n",
    "\n",
    "import sqlite3"
   ]
  },
  {
   "cell_type": "markdown",
   "metadata": {},
   "source": [
    "## (1) Extraccion de datos desde una API"
   ]
  },
  {
   "cell_type": "code",
   "execution_count": 3,
   "metadata": {},
   "outputs": [],
   "source": [
    "# Creacion de la lista de las fechas de interes:\n",
    "date_list = []\n",
    "for i in range(1,32):\n",
    "     x = datetime.datetime(2020, 12, i)\n",
    "     date_list.append(x.strftime('%Y-%m-%d'))"
   ]
  },
  {
   "cell_type": "code",
   "execution_count": 3,
   "metadata": {},
   "outputs": [],
   "source": [
    "# Validacion de la lista de fechas\n",
    "#date_list"
   ]
  },
  {
   "cell_type": "code",
   "execution_count": 4,
   "metadata": {},
   "outputs": [],
   "source": [
    "# Creacion de la lista de las URLs donde se encuentran las APIs de interes:\n",
    "url = 'http://api.tvmaze.com/schedule'\n",
    "web = 'web?date='\n",
    "\n",
    "API_ = []\n",
    "List_url = []\n",
    "for t in date_list:\n",
    "    API_ = '{}/{}{}'.format(url, web, t)\n",
    "    List_url.append(API_)"
   ]
  },
  {
   "cell_type": "code",
   "execution_count": 5,
   "metadata": {},
   "outputs": [],
   "source": [
    "# Validacion de la lista de URLs:\n",
    "# List_url"
   ]
  },
  {
   "cell_type": "code",
   "execution_count": 8,
   "metadata": {},
   "outputs": [],
   "source": [
    "# Obtencion de DFs desde las APIs(URLs):\n",
    "\n",
    "API_2 = []\n",
    "List_txt = []\n",
    "List_json = []\n",
    "list_dfs = []\n",
    "i = 0\n",
    "\n",
    "for j in List_url:\n",
    "   i = i + 1\n",
    "   API_2 = requests.get(j)\n",
    "   List_txt.append(API_2.text)\n",
    "   json_file = json.loads(API_2.text)\n",
    "   # Guardar un archivo json en cada loop \n",
    "   # (las proximas 3 lineas solo se deben correr una vez para extraer los archivos json):\n",
    "   #out_file = open('{}{}.json'.format('date', i), 'w')   \n",
    "   #json.dump(json_file, out_file, indent = 6) \n",
    "   #out_file.close()\n",
    "   # Crea un lista de los archivos json y de alli \n",
    "   # los convierte  a DF para construir un listado de DFs: \n",
    "   List_json.append(json_file)\n",
    "   df_all = json_normalize(json_file)\n",
    "   list_dfs.append(df_all)"
   ]
  },
  {
   "cell_type": "code",
   "execution_count": 9,
   "metadata": {},
   "outputs": [
    {
     "data": {
      "text/plain": [
       "31"
      ]
     },
     "execution_count": 9,
     "metadata": {},
     "output_type": "execute_result"
    }
   ],
   "source": [
    "# Validacion de la lista de archivos json:\n",
    "len(List_json)"
   ]
  },
  {
   "cell_type": "code",
   "execution_count": 8,
   "metadata": {},
   "outputs": [
    {
     "data": {
      "text/plain": [
       "31"
      ]
     },
     "execution_count": 8,
     "metadata": {},
     "output_type": "execute_result"
    }
   ],
   "source": [
    "# Validacion de la lista de DFs:\n",
    "len(list_dfs)"
   ]
  },
  {
   "cell_type": "markdown",
   "metadata": {},
   "source": [
    "## (2) Revision General de los datos extraidos"
   ]
  },
  {
   "cell_type": "markdown",
   "metadata": {},
   "source": [
    "### (2.1) Revision de registros por dia (filas) y numero de variables (columnas)"
   ]
  },
  {
   "cell_type": "code",
   "execution_count": 9,
   "metadata": {},
   "outputs": [],
   "source": [
    "# Conteo de filas y columnas:\n",
    "rows = []\n",
    "columns = []\n",
    "for i in list_dfs:\n",
    "    rows.append(len(i.axes[0]))\n",
    "    columns.append(len(i.axes[1]))"
   ]
  },
  {
   "cell_type": "code",
   "execution_count": 10,
   "metadata": {},
   "outputs": [],
   "source": [
    "# Convirtiendo listas en arrays:\n",
    "rows = np.array(rows)\n",
    "columns = np.array(columns)"
   ]
  },
  {
   "cell_type": "code",
   "execution_count": 11,
   "metadata": {},
   "outputs": [],
   "source": [
    "# Reconfigurando el tamaño de cada array:\n",
    "rows = np.reshape(rows,(31,1))\n",
    "columns = np.reshape(columns,(31,1))\n"
   ]
  },
  {
   "cell_type": "code",
   "execution_count": 12,
   "metadata": {},
   "outputs": [],
   "source": [
    "DFs = []\n",
    "for k in range(1,32):\n",
    "    DFs.append(k)\n",
    "\n",
    "DFs = np.reshape(DFs,(31,1))\n"
   ]
  },
  {
   "cell_type": "code",
   "execution_count": 13,
   "metadata": {},
   "outputs": [
    {
     "data": {
      "text/plain": [
       "(1, 31, 3)"
      ]
     },
     "execution_count": 13,
     "metadata": {},
     "output_type": "execute_result"
    }
   ],
   "source": [
    "# Compilando los arrays en una lista y convirtiendola en array nuevamente:\n",
    "fil_col = [DFs,rows,columns]\n",
    "fil_col = np.array(fil_col)\n",
    "fil_col = fil_col.T\n",
    "fil_col.shape\n"
   ]
  },
  {
   "cell_type": "code",
   "execution_count": 14,
   "metadata": {},
   "outputs": [],
   "source": [
    "# Pasando de ndarray 3D a un array 2D:\n",
    "fil_col = fil_col.reshape(fil_col.shape[1], (fil_col.shape[0]*fil_col.shape[2]))"
   ]
  },
  {
   "cell_type": "code",
   "execution_count": 15,
   "metadata": {},
   "outputs": [],
   "source": [
    "# Convirtiendo el array en DataFrame para mostrar los datos de mejor manera:\n",
    "df_fil_col = pd.DataFrame(fil_col,columns = ['DFs','filas','columnas'])\n",
    "#df_fil_col"
   ]
  },
  {
   "cell_type": "code",
   "execution_count": 16,
   "metadata": {},
   "outputs": [],
   "source": [
    "# Revisando cuantas entradas hay por DF:\n",
    "#df_fil_col['filas'].value_counts()\n",
    "# Lo obtenido es esperado porque cada dia pueden haber mas o menos estrenos de series\n",
    "# o se presentan un cierto numero de series segun el dia de la semana. \n",
    "# Se puede decir que en Diciembre el numero total de series registradas por dia en la API, \n",
    "# se repite maximo 1 vez al mes. Por lo general cada dia tiene su numero total de registros.\n",
    "\n",
    "# Si es importante notar que el 01 de Diciembre del 2020 fue un Martes y el 31 de Diciembre fue un Jueves.\n",
    "# Se nota un ciclo interesante entre la semana los Sabados y los Domingos son los dias en los que menos registros\n",
    "# llegan a la API.  "
   ]
  },
  {
   "cell_type": "code",
   "execution_count": 17,
   "metadata": {},
   "outputs": [],
   "source": [
    "# Cambiando de tipo de variable las columnas en el df_fil_col:\n",
    "df_fil_col['filas']= df_fil_col['filas'].astype('int64')\n",
    "df_fil_col['columnas']= df_fil_col['columnas'].astype('int64')"
   ]
  },
  {
   "cell_type": "code",
   "execution_count": 18,
   "metadata": {},
   "outputs": [],
   "source": [
    "# Validando el df_fil_col resultante:\n",
    "# df_fil_col"
   ]
  },
  {
   "cell_type": "code",
   "execution_count": 19,
   "metadata": {},
   "outputs": [
    {
     "data": {
      "image/png": "[encoded data removed]",
      "text/plain": [
       "<Figure size 432x288 with 1 Axes>"
      ]
     },
     "metadata": {},
     "output_type": "display_data"
    }
   ],
   "source": [
    "#plt.scatter(x=df_fil_col['DFs'], y=df_fil_col['filas'])\n",
    "plt.bar(df_fil_col['DFs'], df_fil_col['filas'], color ='maroon',width = 0.4)\n",
    "plt.title('Registros por DFs')\n",
    "plt.xlabel('Dias de Diciembre 2020')\n",
    "plt.ylabel('Numero de registros por dia')\n",
    "plt.show()\n",
    "# El grafico confirma la sospecha hay un ciclo con cada semana, donde por lo general los dias donde mas registros\n",
    "# hay son los Jueves y Viernes. Mientras que los Lunes y Martes hay menos registros de las series de interes."
   ]
  },
  {
   "cell_type": "code",
   "execution_count": 20,
   "metadata": {},
   "outputs": [
    {
     "data": {
      "text/plain": [
       "62    23\n",
       "59     8\n",
       "Name: columnas, dtype: int64"
      ]
     },
     "execution_count": 20,
     "metadata": {},
     "output_type": "execute_result"
    }
   ],
   "source": [
    "# Revisando cuantas variables se registran por DF:\n",
    "df_fil_col['columnas'].value_counts()\n",
    "# Se puede creer que casi todos los dias los registros ingresados tienen las mismas variables. \n",
    "# Los datos recogidos muestran que por lo general se registran 62 variables por cada entrada.\n",
    "# Hay 8 dias en los que se registran 59 variables (o columnas).\n",
    "# Ahora, se registran estas variables en el mismo orden?"
   ]
  },
  {
   "cell_type": "code",
   "execution_count": 21,
   "metadata": {},
   "outputs": [
    {
     "name": "stdout",
     "output_type": "stream",
     "text": [
      "<class 'pandas.core.frame.DataFrame'>\n",
      "RangeIndex: 100 entries, 0 to 99\n",
      "Data columns (total 62 columns):\n",
      " #   Column                                      Non-Null Count  Dtype  \n",
      "---  ------                                      --------------  -----  \n",
      " 0   id                                          100 non-null    int64  \n",
      " 1   url                                         100 non-null    object \n",
      " 2   name                                        100 non-null    object \n",
      " 3   season                                      100 non-null    int64  \n",
      " 4   number                                      100 non-null    int64  \n",
      " 5   type                                        100 non-null    object \n",
      " 6   airdate                                     100 non-null    object \n",
      " 7   airtime                                     100 non-null    object \n",
      " 8   airstamp                                    100 non-null    object \n",
      " 9   runtime                                     94 non-null     float64\n",
      " 10  image                                       0 non-null      float64\n",
      " 11  summary                                     20 non-null     object \n",
      " 12  rating.average                              3 non-null      float64\n",
      " 13  _links.self.href                            100 non-null    object \n",
      " 14  _embedded.show.id                           100 non-null    int64  \n",
      " 15  _embedded.show.url                          100 non-null    object \n",
      " 16  _embedded.show.name                         100 non-null    object \n",
      " 17  _embedded.show.type                         100 non-null    object \n",
      " 18  _embedded.show.language                     100 non-null    object \n",
      " 19  _embedded.show.genres                       100 non-null    object \n",
      " 20  _embedded.show.status                       100 non-null    object \n",
      " 21  _embedded.show.runtime                      71 non-null     float64\n",
      " 22  _embedded.show.averageRuntime               96 non-null     float64\n",
      " 23  _embedded.show.premiered                    100 non-null    object \n",
      " 24  _embedded.show.ended                        47 non-null     object \n",
      " 25  _embedded.show.officialSite                 91 non-null     object \n",
      " 26  _embedded.show.schedule.time                100 non-null    object \n",
      " 27  _embedded.show.schedule.days                100 non-null    object \n",
      " 28  _embedded.show.rating.average               4 non-null      float64\n",
      " 29  _embedded.show.weight                       100 non-null    int64  \n",
      " 30  _embedded.show.network                      0 non-null      float64\n",
      " 31  _embedded.show.webChannel.id                93 non-null     float64\n",
      " 32  _embedded.show.webChannel.name              93 non-null     object \n",
      " 33  _embedded.show.webChannel.country.name      39 non-null     object \n",
      " 34  _embedded.show.webChannel.country.code      39 non-null     object \n",
      " 35  _embedded.show.webChannel.country.timezone  39 non-null     object \n",
      " 36  _embedded.show.webChannel.officialSite      56 non-null     object \n",
      " 37  _embedded.show.dvdCountry                   0 non-null      float64\n",
      " 38  _embedded.show.externals.tvrage             1 non-null      float64\n",
      " 39  _embedded.show.externals.thetvdb            59 non-null     float64\n",
      " 40  _embedded.show.externals.imdb               50 non-null     object \n",
      " 41  _embedded.show.image.medium                 86 non-null     object \n",
      " 42  _embedded.show.image.original               86 non-null     object \n",
      " 43  _embedded.show.summary                      89 non-null     object \n",
      " 44  _embedded.show.updated                      100 non-null    int64  \n",
      " 45  _embedded.show._links.self.href             100 non-null    object \n",
      " 46  _embedded.show._links.previousepisode.href  100 non-null    object \n",
      " 47  image.medium                                26 non-null     object \n",
      " 48  image.original                              26 non-null     object \n",
      " 49  _embedded.show.network.id                   14 non-null     float64\n",
      " 50  _embedded.show.network.name                 14 non-null     object \n",
      " 51  _embedded.show.network.country.name         14 non-null     object \n",
      " 52  _embedded.show.network.country.code         14 non-null     object \n",
      " 53  _embedded.show.network.country.timezone     14 non-null     object \n",
      " 54  _embedded.show.network.officialSite         0 non-null      float64\n",
      " 55  _embedded.show._links.nextepisode.href      9 non-null      object \n",
      " 56  _embedded.show.webChannel                   0 non-null      float64\n",
      " 57  _embedded.show.image                        0 non-null      float64\n",
      " 58  _embedded.show.webChannel.country           0 non-null      float64\n",
      " 59  _embedded.show.dvdCountry.name              1 non-null      object \n",
      " 60  _embedded.show.dvdCountry.code              1 non-null      object \n",
      " 61  _embedded.show.dvdCountry.timezone          1 non-null      object \n",
      "dtypes: float64(16), int64(6), object(40)\n",
      "memory usage: 48.6+ KB\n"
     ]
    }
   ],
   "source": [
    "# Revisando las componente 0 (2020-12-01), 2 (2020-12-03) y 6 (2020-12-07) de la lista list_dfs se pueden hacer comparaciones interesantes:\n",
    "list_dfs[0].info()"
   ]
  },
  {
   "cell_type": "code",
   "execution_count": 22,
   "metadata": {},
   "outputs": [
    {
     "name": "stdout",
     "output_type": "stream",
     "text": [
      "<class 'pandas.core.frame.DataFrame'>\n",
      "RangeIndex: 132 entries, 0 to 131\n",
      "Data columns (total 62 columns):\n",
      " #   Column                                      Non-Null Count  Dtype  \n",
      "---  ------                                      --------------  -----  \n",
      " 0   id                                          132 non-null    int64  \n",
      " 1   url                                         132 non-null    object \n",
      " 2   name                                        132 non-null    object \n",
      " 3   season                                      132 non-null    int64  \n",
      " 4   number                                      129 non-null    float64\n",
      " 5   type                                        132 non-null    object \n",
      " 6   airdate                                     132 non-null    object \n",
      " 7   airtime                                     132 non-null    object \n",
      " 8   airstamp                                    132 non-null    object \n",
      " 9   runtime                                     116 non-null    float64\n",
      " 10  image                                       0 non-null      float64\n",
      " 11  summary                                     46 non-null     object \n",
      " 12  rating.average                              12 non-null     float64\n",
      " 13  _links.self.href                            132 non-null    object \n",
      " 14  _embedded.show.id                           132 non-null    int64  \n",
      " 15  _embedded.show.url                          132 non-null    object \n",
      " 16  _embedded.show.name                         132 non-null    object \n",
      " 17  _embedded.show.type                         132 non-null    object \n",
      " 18  _embedded.show.language                     132 non-null    object \n",
      " 19  _embedded.show.genres                       132 non-null    object \n",
      " 20  _embedded.show.status                       132 non-null    object \n",
      " 21  _embedded.show.runtime                      91 non-null     float64\n",
      " 22  _embedded.show.averageRuntime               121 non-null    float64\n",
      " 23  _embedded.show.premiered                    132 non-null    object \n",
      " 24  _embedded.show.ended                        50 non-null     object \n",
      " 25  _embedded.show.officialSite                 108 non-null    object \n",
      " 26  _embedded.show.schedule.time                132 non-null    object \n",
      " 27  _embedded.show.schedule.days                132 non-null    object \n",
      " 28  _embedded.show.rating.average               22 non-null     float64\n",
      " 29  _embedded.show.weight                       132 non-null    int64  \n",
      " 30  _embedded.show.network                      0 non-null      float64\n",
      " 31  _embedded.show.webChannel.id                130 non-null    float64\n",
      " 32  _embedded.show.webChannel.name              130 non-null    object \n",
      " 33  _embedded.show.webChannel.country.name      58 non-null     object \n",
      " 34  _embedded.show.webChannel.country.code      58 non-null     object \n",
      " 35  _embedded.show.webChannel.country.timezone  58 non-null     object \n",
      " 36  _embedded.show.webChannel.officialSite      91 non-null     object \n",
      " 37  _embedded.show.dvdCountry                   0 non-null      float64\n",
      " 38  _embedded.show.externals.tvrage             2 non-null      float64\n",
      " 39  _embedded.show.externals.thetvdb            100 non-null    float64\n",
      " 40  _embedded.show.externals.imdb               79 non-null     object \n",
      " 41  _embedded.show.image.medium                 129 non-null    object \n",
      " 42  _embedded.show.image.original               129 non-null    object \n",
      " 43  _embedded.show.summary                      115 non-null    object \n",
      " 44  _embedded.show.updated                      132 non-null    int64  \n",
      " 45  _embedded.show._links.self.href             132 non-null    object \n",
      " 46  _embedded.show._links.previousepisode.href  132 non-null    object \n",
      " 47  image.medium                                31 non-null     object \n",
      " 48  image.original                              31 non-null     object \n",
      " 49  _embedded.show._links.nextepisode.href      15 non-null     object \n",
      " 50  _embedded.show.network.id                   12 non-null     float64\n",
      " 51  _embedded.show.network.name                 12 non-null     object \n",
      " 52  _embedded.show.network.country.name         12 non-null     object \n",
      " 53  _embedded.show.network.country.code         12 non-null     object \n",
      " 54  _embedded.show.network.country.timezone     12 non-null     object \n",
      " 55  _embedded.show.network.officialSite         0 non-null      float64\n",
      " 56  _embedded.show.webChannel.country           0 non-null      float64\n",
      " 57  _embedded.show.image                        0 non-null      float64\n",
      " 58  _embedded.show.dvdCountry.name              1 non-null      object \n",
      " 59  _embedded.show.dvdCountry.code              1 non-null      object \n",
      " 60  _embedded.show.dvdCountry.timezone          1 non-null      object \n",
      " 61  _embedded.show.webChannel                   0 non-null      float64\n",
      "dtypes: float64(17), int64(5), object(40)\n",
      "memory usage: 64.1+ KB\n"
     ]
    }
   ],
   "source": [
    "list_dfs[2].info()"
   ]
  },
  {
   "cell_type": "code",
   "execution_count": 23,
   "metadata": {},
   "outputs": [
    {
     "name": "stdout",
     "output_type": "stream",
     "text": [
      "<class 'pandas.core.frame.DataFrame'>\n",
      "RangeIndex: 87 entries, 0 to 86\n",
      "Data columns (total 59 columns):\n",
      " #   Column                                      Non-Null Count  Dtype  \n",
      "---  ------                                      --------------  -----  \n",
      " 0   id                                          87 non-null     int64  \n",
      " 1   url                                         87 non-null     object \n",
      " 2   name                                        87 non-null     object \n",
      " 3   season                                      87 non-null     int64  \n",
      " 4   number                                      86 non-null     float64\n",
      " 5   type                                        87 non-null     object \n",
      " 6   airdate                                     87 non-null     object \n",
      " 7   airtime                                     87 non-null     object \n",
      " 8   airstamp                                    87 non-null     object \n",
      " 9   runtime                                     82 non-null     float64\n",
      " 10  image                                       0 non-null      float64\n",
      " 11  summary                                     22 non-null     object \n",
      " 12  rating.average                              2 non-null      float64\n",
      " 13  _links.self.href                            87 non-null     object \n",
      " 14  _embedded.show.id                           87 non-null     int64  \n",
      " 15  _embedded.show.url                          87 non-null     object \n",
      " 16  _embedded.show.name                         87 non-null     object \n",
      " 17  _embedded.show.type                         87 non-null     object \n",
      " 18  _embedded.show.language                     85 non-null     object \n",
      " 19  _embedded.show.genres                       87 non-null     object \n",
      " 20  _embedded.show.status                       87 non-null     object \n",
      " 21  _embedded.show.runtime                      64 non-null     float64\n",
      " 22  _embedded.show.averageRuntime               85 non-null     float64\n",
      " 23  _embedded.show.premiered                    87 non-null     object \n",
      " 24  _embedded.show.ended                        46 non-null     object \n",
      " 25  _embedded.show.officialSite                 78 non-null     object \n",
      " 26  _embedded.show.schedule.time                87 non-null     object \n",
      " 27  _embedded.show.schedule.days                87 non-null     object \n",
      " 28  _embedded.show.rating.average               3 non-null      float64\n",
      " 29  _embedded.show.weight                       87 non-null     int64  \n",
      " 30  _embedded.show.network                      0 non-null      float64\n",
      " 31  _embedded.show.webChannel.id                86 non-null     float64\n",
      " 32  _embedded.show.webChannel.name              86 non-null     object \n",
      " 33  _embedded.show.webChannel.country.name      34 non-null     object \n",
      " 34  _embedded.show.webChannel.country.code      34 non-null     object \n",
      " 35  _embedded.show.webChannel.country.timezone  34 non-null     object \n",
      " 36  _embedded.show.webChannel.officialSite      39 non-null     object \n",
      " 37  _embedded.show.dvdCountry                   0 non-null      object \n",
      " 38  _embedded.show.externals.tvrage             3 non-null      float64\n",
      " 39  _embedded.show.externals.thetvdb            69 non-null     float64\n",
      " 40  _embedded.show.externals.imdb               42 non-null     object \n",
      " 41  _embedded.show.image.medium                 77 non-null     object \n",
      " 42  _embedded.show.image.original               77 non-null     object \n",
      " 43  _embedded.show.summary                      72 non-null     object \n",
      " 44  _embedded.show.updated                      87 non-null     int64  \n",
      " 45  _embedded.show._links.self.href             87 non-null     object \n",
      " 46  _embedded.show._links.previousepisode.href  87 non-null     object \n",
      " 47  _embedded.show._links.nextepisode.href      9 non-null      object \n",
      " 48  image.medium                                16 non-null     object \n",
      " 49  image.original                              16 non-null     object \n",
      " 50  _embedded.show.network.id                   6 non-null      float64\n",
      " 51  _embedded.show.network.name                 6 non-null      object \n",
      " 52  _embedded.show.network.country.name         6 non-null      object \n",
      " 53  _embedded.show.network.country.code         6 non-null      object \n",
      " 54  _embedded.show.network.country.timezone     6 non-null      object \n",
      " 55  _embedded.show.network.officialSite         0 non-null      float64\n",
      " 56  _embedded.show.webChannel.country           0 non-null      float64\n",
      " 57  _embedded.show.image                        0 non-null      float64\n",
      " 58  _embedded.show.webChannel                   0 non-null      float64\n",
      "dtypes: float64(16), int64(5), object(38)\n",
      "memory usage: 40.2+ KB\n"
     ]
    }
   ],
   "source": [
    "list_dfs[6].info()"
   ]
  },
  {
   "cell_type": "markdown",
   "metadata": {},
   "source": [
    "Comparacion #1:\n",
    "\n",
    "Comparando las componentes 0 con 2 de la lista list_dfs, vemos que a pesar que tienen los mismo numero de variables, el orden no es el mismo. En la componente 2 _embedded.show.webChannel es la variable #61 contando como #0 la 1ra variable, mientras que en la componente 0 aparece como la variable #56.\n",
    "\n",
    "Comparacion #2:\n",
    "\n",
    "Comparando la componente 6 con la componente 0 vemos que ahora hay 8 menos variables registradas y que el # asociado con la variable tambien cambia. En la componente 6 _embedded.show.webChannel es la ultima variable (#58).\n",
    "\n",
    "Estas comparaciones confirman que los DFs que se vayan a utilizar para el analisis de los datos deben ser formados con variables que esten presentes en todos los DFs de Diciembre del 2020.  "
   ]
  },
  {
   "cell_type": "markdown",
   "metadata": {},
   "source": [
    "### (2.2) Conteo de faltantes"
   ]
  },
  {
   "cell_type": "code",
   "execution_count": 24,
   "metadata": {},
   "outputs": [],
   "source": [
    "nulos = []\n",
    "for i in list_dfs:\n",
    "    for col in i.columns:\n",
    "        pct_missing = np.mean(i[col].isnull())\n",
    "        nulos.append(('{} - {}'.format(col,np.round_(pct_missing,4))))"
   ]
  },
  {
   "cell_type": "code",
   "execution_count": 25,
   "metadata": {},
   "outputs": [
    {
     "data": {
      "text/plain": [
       "['id - 0.0',\n",
       " 'url - 0.0',\n",
       " 'name - 0.0',\n",
       " 'season - 0.0',\n",
       " 'number - 0.0',\n",
       " 'type - 0.0',\n",
       " 'airdate - 0.0',\n",
       " 'airtime - 0.0',\n",
       " 'airstamp - 0.0',\n",
       " 'runtime - 0.06',\n",
       " 'image - 1.0',\n",
       " 'summary - 0.8',\n",
       " 'rating.average - 0.97',\n",
       " '_links.self.href - 0.0',\n",
       " '_embedded.show.id - 0.0',\n",
       " '_embedded.show.url - 0.0',\n",
       " '_embedded.show.name - 0.0',\n",
       " '_embedded.show.type - 0.0',\n",
       " '_embedded.show.language - 0.0',\n",
       " '_embedded.show.genres - 0.0',\n",
       " '_embedded.show.status - 0.0',\n",
       " '_embedded.show.runtime - 0.29',\n",
       " '_embedded.show.averageRuntime - 0.04',\n",
       " '_embedded.show.premiered - 0.0',\n",
       " '_embedded.show.ended - 0.53',\n",
       " '_embedded.show.officialSite - 0.09',\n",
       " '_embedded.show.schedule.time - 0.0',\n",
       " '_embedded.show.schedule.days - 0.0',\n",
       " '_embedded.show.rating.average - 0.96',\n",
       " '_embedded.show.weight - 0.0',\n",
       " '_embedded.show.network - 1.0',\n",
       " '_embedded.show.webChannel.id - 0.07',\n",
       " '_embedded.show.webChannel.name - 0.07',\n",
       " '_embedded.show.webChannel.country.name - 0.61',\n",
       " '_embedded.show.webChannel.country.code - 0.61',\n",
       " '_embedded.show.webChannel.country.timezone - 0.61',\n",
       " '_embedded.show.webChannel.officialSite - 0.44',\n",
       " '_embedded.show.dvdCountry - 1.0',\n",
       " '_embedded.show.externals.tvrage - 0.99',\n",
       " '_embedded.show.externals.thetvdb - 0.41',\n",
       " '_embedded.show.externals.imdb - 0.5',\n",
       " '_embedded.show.image.medium - 0.14',\n",
       " '_embedded.show.image.original - 0.14',\n",
       " '_embedded.show.summary - 0.11',\n",
       " '_embedded.show.updated - 0.0',\n",
       " '_embedded.show._links.self.href - 0.0',\n",
       " '_embedded.show._links.previousepisode.href - 0.0',\n",
       " 'image.medium - 0.74',\n",
       " 'image.original - 0.74',\n",
       " '_embedded.show.network.id - 0.86',\n",
       " '_embedded.show.network.name - 0.86',\n",
       " '_embedded.show.network.country.name - 0.86',\n",
       " '_embedded.show.network.country.code - 0.86',\n",
       " '_embedded.show.network.country.timezone - 0.86',\n",
       " '_embedded.show.network.officialSite - 1.0',\n",
       " '_embedded.show._links.nextepisode.href - 0.91',\n",
       " '_embedded.show.webChannel - 1.0',\n",
       " '_embedded.show.image - 1.0',\n",
       " '_embedded.show.webChannel.country - 1.0',\n",
       " '_embedded.show.dvdCountry.name - 0.99',\n",
       " '_embedded.show.dvdCountry.code - 0.99',\n",
       " '_embedded.show.dvdCountry.timezone - 0.99',\n",
       " 'id - 0.0',\n",
       " 'url - 0.0',\n",
       " 'name - 0.0',\n",
       " 'season - 0.0',\n",
       " 'number - 0.0123',\n",
       " 'type - 0.0',\n",
       " 'airdate - 0.0',\n",
       " 'airtime - 0.0',\n",
       " 'airstamp - 0.0',\n",
       " 'runtime - 0.0741',\n",
       " 'summary - 0.8395',\n",
       " 'rating.average - 0.9506',\n",
       " 'image.medium - 0.8272',\n",
       " 'image.original - 0.8272',\n",
       " '_links.self.href - 0.0',\n",
       " '_embedded.show.id - 0.0',\n",
       " '_embedded.show.url - 0.0',\n",
       " '_embedded.show.name - 0.0',\n",
       " '_embedded.show.type - 0.0',\n",
       " '_embedded.show.language - 0.0123',\n",
       " '_embedded.show.genres - 0.0',\n",
       " '_embedded.show.status - 0.0',\n",
       " '_embedded.show.runtime - 0.2346',\n",
       " '_embedded.show.averageRuntime - 0.0494',\n",
       " '_embedded.show.premiered - 0.0',\n",
       " '_embedded.show.ended - 0.5679',\n",
       " '_embedded.show.officialSite - 0.1605',\n",
       " '_embedded.show.schedule.time - 0.0',\n",
       " '_embedded.show.schedule.days - 0.0',\n",
       " '_embedded.show.rating.average - 0.9259',\n",
       " '_embedded.show.weight - 0.0',\n",
       " '_embedded.show.network - 1.0',\n",
       " '_embedded.show.webChannel.id - 0.037',\n",
       " '_embedded.show.webChannel.name - 0.037',\n",
       " '_embedded.show.webChannel.country - 1.0',\n",
       " '_embedded.show.webChannel.officialSite - 0.4074',\n",
       " '_embedded.show.dvdCountry - 1.0',\n",
       " '_embedded.show.externals.tvrage - 0.9753',\n",
       " '_embedded.show.externals.thetvdb - 0.3457',\n",
       " '_embedded.show.externals.imdb - 0.6049',\n",
       " '_embedded.show.image.medium - 0.0864',\n",
       " '_embedded.show.image.original - 0.0864',\n",
       " '_embedded.show.summary - 0.1975',\n",
       " '_embedded.show.updated - 0.0',\n",
       " '_embedded.show._links.self.href - 0.0',\n",
       " '_embedded.show._links.previousepisode.href - 0.0',\n",
       " 'image - 1.0',\n",
       " '_embedded.show.webChannel.country.name - 0.4691',\n",
       " '_embedded.show.webChannel.country.code - 0.4691',\n",
       " '_embedded.show.webChannel.country.timezone - 0.4691',\n",
       " '_embedded.show._links.nextepisode.href - 0.8889',\n",
       " '_embedded.show.network.id - 0.8889',\n",
       " '_embedded.show.network.name - 0.8889',\n",
       " '_embedded.show.network.country.name - 0.8889',\n",
       " '_embedded.show.network.country.code - 0.8889',\n",
       " '_embedded.show.network.country.timezone - 0.8889',\n",
       " '_embedded.show.network.officialSite - 1.0',\n",
       " '_embedded.show.webChannel - 1.0',\n",
       " '_embedded.show.image - 1.0',\n",
       " '_embedded.show.dvdCountry.name - 0.9877',\n",
       " '_embedded.show.dvdCountry.code - 0.9877',\n",
       " '_embedded.show.dvdCountry.timezone - 0.9877',\n",
       " 'id - 0.0',\n",
       " 'url - 0.0',\n",
       " 'name - 0.0',\n",
       " 'season - 0.0',\n",
       " 'number - 0.0227',\n",
       " 'type - 0.0',\n",
       " 'airdate - 0.0',\n",
       " 'airtime - 0.0',\n",
       " 'airstamp - 0.0',\n",
       " 'runtime - 0.1212',\n",
       " 'image - 1.0',\n",
       " 'summary - 0.6515',\n",
       " 'rating.average - 0.9091',\n",
       " '_links.self.href - 0.0',\n",
       " '_embedded.show.id - 0.0',\n",
       " '_embedded.show.url - 0.0',\n",
       " '_embedded.show.name - 0.0',\n",
       " '_embedded.show.type - 0.0',\n",
       " '_embedded.show.language - 0.0',\n",
       " '_embedded.show.genres - 0.0',\n",
       " '_embedded.show.status - 0.0',\n",
       " '_embedded.show.runtime - 0.3106',\n",
       " '_embedded.show.averageRuntime - 0.0833',\n",
       " '_embedded.show.premiered - 0.0',\n",
       " '_embedded.show.ended - 0.6212',\n",
       " '_embedded.show.officialSite - 0.1818',\n",
       " '_embedded.show.schedule.time - 0.0',\n",
       " '_embedded.show.schedule.days - 0.0',\n",
       " '_embedded.show.rating.average - 0.8333',\n",
       " '_embedded.show.weight - 0.0',\n",
       " '_embedded.show.network - 1.0',\n",
       " '_embedded.show.webChannel.id - 0.0152',\n",
       " '_embedded.show.webChannel.name - 0.0152',\n",
       " '_embedded.show.webChannel.country.name - 0.5606',\n",
       " '_embedded.show.webChannel.country.code - 0.5606',\n",
       " '_embedded.show.webChannel.country.timezone - 0.5606',\n",
       " '_embedded.show.webChannel.officialSite - 0.3106',\n",
       " '_embedded.show.dvdCountry - 1.0',\n",
       " '_embedded.show.externals.tvrage - 0.9848',\n",
       " '_embedded.show.externals.thetvdb - 0.2424',\n",
       " '_embedded.show.externals.imdb - 0.4015',\n",
       " '_embedded.show.image.medium - 0.0227',\n",
       " '_embedded.show.image.original - 0.0227',\n",
       " '_embedded.show.summary - 0.1288',\n",
       " '_embedded.show.updated - 0.0',\n",
       " '_embedded.show._links.self.href - 0.0',\n",
       " '_embedded.show._links.previousepisode.href - 0.0',\n",
       " 'image.medium - 0.7652',\n",
       " 'image.original - 0.7652',\n",
       " '_embedded.show._links.nextepisode.href - 0.8864',\n",
       " '_embedded.show.network.id - 0.9091',\n",
       " '_embedded.show.network.name - 0.9091',\n",
       " '_embedded.show.network.country.name - 0.9091',\n",
       " '_embedded.show.network.country.code - 0.9091',\n",
       " '_embedded.show.network.country.timezone - 0.9091',\n",
       " '_embedded.show.network.officialSite - 1.0',\n",
       " '_embedded.show.webChannel.country - 1.0',\n",
       " '_embedded.show.image - 1.0',\n",
       " '_embedded.show.dvdCountry.name - 0.9924',\n",
       " '_embedded.show.dvdCountry.code - 0.9924',\n",
       " '_embedded.show.dvdCountry.timezone - 0.9924',\n",
       " '_embedded.show.webChannel - 1.0',\n",
       " 'id - 0.0',\n",
       " 'url - 0.0',\n",
       " 'name - 0.0',\n",
       " 'season - 0.0',\n",
       " 'number - 0.0284',\n",
       " 'type - 0.0',\n",
       " 'airdate - 0.0',\n",
       " 'airtime - 0.0',\n",
       " 'airstamp - 0.0',\n",
       " 'runtime - 0.0341',\n",
       " 'image - 1.0',\n",
       " 'summary - 0.5',\n",
       " 'rating.average - 0.8295',\n",
       " '_links.self.href - 0.0',\n",
       " '_embedded.show.id - 0.0',\n",
       " '_embedded.show.url - 0.0',\n",
       " '_embedded.show.name - 0.0',\n",
       " '_embedded.show.type - 0.0',\n",
       " '_embedded.show.language - 0.0',\n",
       " '_embedded.show.genres - 0.0',\n",
       " '_embedded.show.status - 0.0',\n",
       " '_embedded.show.runtime - 0.5398',\n",
       " '_embedded.show.averageRuntime - 0.017',\n",
       " '_embedded.show.premiered - 0.0',\n",
       " '_embedded.show.ended - 0.733',\n",
       " '_embedded.show.officialSite - 0.0966',\n",
       " '_embedded.show.schedule.time - 0.0',\n",
       " '_embedded.show.schedule.days - 0.0',\n",
       " '_embedded.show.rating.average - 0.7045',\n",
       " '_embedded.show.weight - 0.0',\n",
       " '_embedded.show.network - 1.0',\n",
       " '_embedded.show.webChannel.id - 0.0341',\n",
       " '_embedded.show.webChannel.name - 0.0341',\n",
       " '_embedded.show.webChannel.country - 1.0',\n",
       " '_embedded.show.webChannel.officialSite - 0.3068',\n",
       " '_embedded.show.dvdCountry - 1.0',\n",
       " '_embedded.show.externals.tvrage - 0.983',\n",
       " '_embedded.show.externals.thetvdb - 0.2784',\n",
       " '_embedded.show.externals.imdb - 0.4148',\n",
       " '_embedded.show.image.medium - 0.0455',\n",
       " '_embedded.show.image.original - 0.0455',\n",
       " '_embedded.show.summary - 0.0568',\n",
       " '_embedded.show.updated - 0.0',\n",
       " '_embedded.show._links.self.href - 0.0',\n",
       " '_embedded.show._links.previousepisode.href - 0.0',\n",
       " '_embedded.show.webChannel.country.name - 0.5682',\n",
       " '_embedded.show.webChannel.country.code - 0.5682',\n",
       " '_embedded.show.webChannel.country.timezone - 0.5682',\n",
       " '_embedded.show._links.nextepisode.href - 0.8977',\n",
       " 'image.medium - 0.4432',\n",
       " 'image.original - 0.4432',\n",
       " '_embedded.show.network.id - 0.9318',\n",
       " '_embedded.show.network.name - 0.9318',\n",
       " '_embedded.show.network.country.name - 0.9318',\n",
       " '_embedded.show.network.country.code - 0.9318',\n",
       " '_embedded.show.network.country.timezone - 0.9318',\n",
       " '_embedded.show.network.officialSite - 1.0',\n",
       " '_embedded.show.webChannel - 1.0',\n",
       " '_embedded.show.image - 1.0',\n",
       " '_embedded.show.dvdCountry.name - 0.9943',\n",
       " '_embedded.show.dvdCountry.code - 0.9943',\n",
       " '_embedded.show.dvdCountry.timezone - 0.9943',\n",
       " 'id - 0.0',\n",
       " 'url - 0.0',\n",
       " 'name - 0.0',\n",
       " 'season - 0.0',\n",
       " 'number - 0.0',\n",
       " 'type - 0.0',\n",
       " 'airdate - 0.0',\n",
       " 'airtime - 0.0',\n",
       " 'airstamp - 0.0',\n",
       " 'runtime - 0.0714',\n",
       " 'image - 1.0',\n",
       " 'summary - 0.7857',\n",
       " 'rating.average - 0.9643',\n",
       " '_links.self.href - 0.0',\n",
       " '_embedded.show.id - 0.0',\n",
       " '_embedded.show.url - 0.0',\n",
       " '_embedded.show.name - 0.0',\n",
       " '_embedded.show.type - 0.0',\n",
       " '_embedded.show.language - 0.0',\n",
       " '_embedded.show.genres - 0.0',\n",
       " '_embedded.show.status - 0.0',\n",
       " '_embedded.show.runtime - 0.4107',\n",
       " '_embedded.show.averageRuntime - 0.0893',\n",
       " '_embedded.show.premiered - 0.0',\n",
       " '_embedded.show.ended - 0.7679',\n",
       " '_embedded.show.officialSite - 0.0357',\n",
       " '_embedded.show.schedule.time - 0.0',\n",
       " '_embedded.show.schedule.days - 0.0',\n",
       " '_embedded.show.rating.average - 0.9107',\n",
       " '_embedded.show.weight - 0.0',\n",
       " '_embedded.show.network - 1.0',\n",
       " '_embedded.show.webChannel.id - 0.0179',\n",
       " '_embedded.show.webChannel.name - 0.0179',\n",
       " '_embedded.show.webChannel.country.name - 0.3393',\n",
       " '_embedded.show.webChannel.country.code - 0.3393',\n",
       " '_embedded.show.webChannel.country.timezone - 0.3393',\n",
       " '_embedded.show.webChannel.officialSite - 0.625',\n",
       " '_embedded.show.dvdCountry - 1.0',\n",
       " '_embedded.show.externals.tvrage - 0.9643',\n",
       " '_embedded.show.externals.thetvdb - 0.3929',\n",
       " '_embedded.show.externals.imdb - 0.4286',\n",
       " '_embedded.show.image.medium - 0.0357',\n",
       " '_embedded.show.image.original - 0.0357',\n",
       " '_embedded.show.summary - 0.0357',\n",
       " '_embedded.show.updated - 0.0',\n",
       " '_embedded.show._links.self.href - 0.0',\n",
       " '_embedded.show._links.previousepisode.href - 0.0',\n",
       " '_embedded.show._links.nextepisode.href - 0.9107',\n",
       " 'image.medium - 0.6964',\n",
       " 'image.original - 0.6964',\n",
       " '_embedded.show.image - 1.0',\n",
       " '_embedded.show.webChannel.country - 1.0',\n",
       " '_embedded.show.network.id - 0.9107',\n",
       " '_embedded.show.network.name - 0.9107',\n",
       " '_embedded.show.network.country.name - 0.9107',\n",
       " '_embedded.show.network.country.code - 0.9107',\n",
       " '_embedded.show.network.country.timezone - 0.9107',\n",
       " '_embedded.show.network.officialSite - 1.0',\n",
       " '_embedded.show.webChannel - 1.0',\n",
       " 'id - 0.0',\n",
       " 'url - 0.0',\n",
       " 'name - 0.0',\n",
       " 'season - 0.0',\n",
       " 'number - 0.0357',\n",
       " 'type - 0.0',\n",
       " 'airdate - 0.0',\n",
       " 'airtime - 0.0',\n",
       " 'airstamp - 0.0',\n",
       " 'runtime - 0.1071',\n",
       " 'summary - 0.8214',\n",
       " 'rating.average - 0.9464',\n",
       " 'image.medium - 0.6429',\n",
       " 'image.original - 0.6429',\n",
       " '_links.self.href - 0.0',\n",
       " '_embedded.show.id - 0.0',\n",
       " '_embedded.show.url - 0.0',\n",
       " '_embedded.show.name - 0.0',\n",
       " '_embedded.show.type - 0.0',\n",
       " '_embedded.show.language - 0.0',\n",
       " '_embedded.show.genres - 0.0',\n",
       " '_embedded.show.status - 0.0',\n",
       " '_embedded.show.runtime - 0.2143',\n",
       " '_embedded.show.averageRuntime - 0.0714',\n",
       " '_embedded.show.premiered - 0.0',\n",
       " '_embedded.show.ended - 0.7321',\n",
       " '_embedded.show.officialSite - 0.0179',\n",
       " '_embedded.show.schedule.time - 0.0',\n",
       " '_embedded.show.schedule.days - 0.0',\n",
       " '_embedded.show.rating.average - 0.9107',\n",
       " '_embedded.show.weight - 0.0',\n",
       " '_embedded.show.network - 1.0',\n",
       " '_embedded.show.webChannel.id - 0.0357',\n",
       " '_embedded.show.webChannel.name - 0.0357',\n",
       " '_embedded.show.webChannel.country.name - 0.4107',\n",
       " '_embedded.show.webChannel.country.code - 0.4107',\n",
       " '_embedded.show.webChannel.country.timezone - 0.4107',\n",
       " '_embedded.show.webChannel.officialSite - 0.5179',\n",
       " '_embedded.show.dvdCountry - 1.0',\n",
       " '_embedded.show.externals.tvrage - 0.9821',\n",
       " '_embedded.show.externals.thetvdb - 0.2679',\n",
       " '_embedded.show.externals.imdb - 0.375',\n",
       " '_embedded.show.image.medium - 0.0714',\n",
       " '_embedded.show.image.original - 0.0714',\n",
       " '_embedded.show.summary - 0.1071',\n",
       " '_embedded.show.updated - 0.0',\n",
       " '_embedded.show._links.self.href - 0.0',\n",
       " '_embedded.show._links.previousepisode.href - 0.0',\n",
       " 'image - 1.0',\n",
       " '_embedded.show._links.nextepisode.href - 0.8571',\n",
       " '_embedded.show.network.id - 0.8929',\n",
       " '_embedded.show.network.name - 0.8929',\n",
       " '_embedded.show.network.country.name - 0.8929',\n",
       " '_embedded.show.network.country.code - 0.8929',\n",
       " '_embedded.show.network.country.timezone - 0.8929',\n",
       " '_embedded.show.network.officialSite - 0.9821',\n",
       " '_embedded.show.webChannel - 1.0',\n",
       " '_embedded.show.image - 1.0',\n",
       " '_embedded.show.webChannel.country - 1.0',\n",
       " '_embedded.show.dvdCountry.name - 0.9821',\n",
       " '_embedded.show.dvdCountry.code - 0.9821',\n",
       " '_embedded.show.dvdCountry.timezone - 0.9821',\n",
       " 'id - 0.0',\n",
       " 'url - 0.0',\n",
       " 'name - 0.0',\n",
       " 'season - 0.0',\n",
       " 'number - 0.0115',\n",
       " 'type - 0.0',\n",
       " 'airdate - 0.0',\n",
       " 'airtime - 0.0',\n",
       " 'airstamp - 0.0',\n",
       " 'runtime - 0.0575',\n",
       " 'image - 1.0',\n",
       " 'summary - 0.7471',\n",
       " 'rating.average - 0.977',\n",
       " '_links.self.href - 0.0',\n",
       " '_embedded.show.id - 0.0',\n",
       " '_embedded.show.url - 0.0',\n",
       " '_embedded.show.name - 0.0',\n",
       " '_embedded.show.type - 0.0',\n",
       " '_embedded.show.language - 0.023',\n",
       " '_embedded.show.genres - 0.0',\n",
       " '_embedded.show.status - 0.0',\n",
       " '_embedded.show.runtime - 0.2644',\n",
       " '_embedded.show.averageRuntime - 0.023',\n",
       " '_embedded.show.premiered - 0.0',\n",
       " '_embedded.show.ended - 0.4713',\n",
       " '_embedded.show.officialSite - 0.1034',\n",
       " '_embedded.show.schedule.time - 0.0',\n",
       " '_embedded.show.schedule.days - 0.0',\n",
       " '_embedded.show.rating.average - 0.9655',\n",
       " '_embedded.show.weight - 0.0',\n",
       " '_embedded.show.network - 1.0',\n",
       " '_embedded.show.webChannel.id - 0.0115',\n",
       " '_embedded.show.webChannel.name - 0.0115',\n",
       " '_embedded.show.webChannel.country.name - 0.6092',\n",
       " '_embedded.show.webChannel.country.code - 0.6092',\n",
       " '_embedded.show.webChannel.country.timezone - 0.6092',\n",
       " '_embedded.show.webChannel.officialSite - 0.5517',\n",
       " '_embedded.show.dvdCountry - 1.0',\n",
       " '_embedded.show.externals.tvrage - 0.9655',\n",
       " '_embedded.show.externals.thetvdb - 0.2069',\n",
       " '_embedded.show.externals.imdb - 0.5172',\n",
       " '_embedded.show.image.medium - 0.1149',\n",
       " '_embedded.show.image.original - 0.1149',\n",
       " '_embedded.show.summary - 0.1724',\n",
       " '_embedded.show.updated - 0.0',\n",
       " '_embedded.show._links.self.href - 0.0',\n",
       " '_embedded.show._links.previousepisode.href - 0.0',\n",
       " '_embedded.show._links.nextepisode.href - 0.8966',\n",
       " 'image.medium - 0.8161',\n",
       " 'image.original - 0.8161',\n",
       " '_embedded.show.network.id - 0.931',\n",
       " '_embedded.show.network.name - 0.931',\n",
       " '_embedded.show.network.country.name - 0.931',\n",
       " '_embedded.show.network.country.code - 0.931',\n",
       " '_embedded.show.network.country.timezone - 0.931',\n",
       " '_embedded.show.network.officialSite - 1.0',\n",
       " '_embedded.show.webChannel.country - 1.0',\n",
       " '_embedded.show.image - 1.0',\n",
       " '_embedded.show.webChannel - 1.0',\n",
       " 'id - 0.0',\n",
       " 'url - 0.0',\n",
       " 'name - 0.0',\n",
       " 'season - 0.0',\n",
       " 'number - 0.1489',\n",
       " 'type - 0.0',\n",
       " 'airdate - 0.0',\n",
       " 'airtime - 0.0',\n",
       " 'airstamp - 0.0',\n",
       " 'runtime - 0.0532',\n",
       " 'image - 1.0',\n",
       " 'summary - 0.6915',\n",
       " 'rating.average - 0.9255',\n",
       " '_links.self.href - 0.0',\n",
       " '_embedded.show.id - 0.0',\n",
       " '_embedded.show.url - 0.0',\n",
       " '_embedded.show.name - 0.0',\n",
       " '_embedded.show.type - 0.0',\n",
       " '_embedded.show.language - 0.0106',\n",
       " '_embedded.show.genres - 0.0',\n",
       " '_embedded.show.status - 0.0',\n",
       " '_embedded.show.runtime - 0.2021',\n",
       " '_embedded.show.averageRuntime - 0.0319',\n",
       " '_embedded.show.premiered - 0.0',\n",
       " '_embedded.show.ended - 0.6064',\n",
       " '_embedded.show.officialSite - 0.1064',\n",
       " '_embedded.show.schedule.time - 0.0',\n",
       " '_embedded.show.schedule.days - 0.0',\n",
       " '_embedded.show.rating.average - 0.9255',\n",
       " '_embedded.show.weight - 0.0',\n",
       " '_embedded.show.network - 1.0',\n",
       " '_embedded.show.webChannel.id - 0.0638',\n",
       " '_embedded.show.webChannel.name - 0.0638',\n",
       " '_embedded.show.webChannel.country.name - 0.5851',\n",
       " '_embedded.show.webChannel.country.code - 0.5851',\n",
       " '_embedded.show.webChannel.country.timezone - 0.5851',\n",
       " '_embedded.show.webChannel.officialSite - 0.3085',\n",
       " '_embedded.show.dvdCountry - 1.0',\n",
       " '_embedded.show.externals.tvrage - 0.9894',\n",
       " '_embedded.show.externals.thetvdb - 0.4468',\n",
       " '_embedded.show.externals.imdb - 0.5745',\n",
       " '_embedded.show.image.medium - 0.0426',\n",
       " '_embedded.show.image.original - 0.0426',\n",
       " '_embedded.show.summary - 0.0957',\n",
       " '_embedded.show.updated - 0.0',\n",
       " '_embedded.show._links.self.href - 0.0',\n",
       " '_embedded.show._links.previousepisode.href - 0.0',\n",
       " '_embedded.show.webChannel.country - 1.0',\n",
       " 'image.medium - 0.6809',\n",
       " 'image.original - 0.6809',\n",
       " '_embedded.show.network.id - 0.8723',\n",
       " '_embedded.show.network.name - 0.8723',\n",
       " '_embedded.show.network.country.name - 0.8723',\n",
       " '_embedded.show.network.country.code - 0.8723',\n",
       " '_embedded.show.network.country.timezone - 0.8723',\n",
       " '_embedded.show.network.officialSite - 1.0',\n",
       " '_embedded.show._links.nextepisode.href - 0.8936',\n",
       " '_embedded.show.image - 1.0',\n",
       " '_embedded.show.webChannel - 1.0',\n",
       " '_embedded.show.dvdCountry.name - 0.9894',\n",
       " '_embedded.show.dvdCountry.code - 0.9894',\n",
       " '_embedded.show.dvdCountry.timezone - 0.9894',\n",
       " 'id - 0.0',\n",
       " 'url - 0.0',\n",
       " 'name - 0.0',\n",
       " 'season - 0.0',\n",
       " 'number - 0.0455',\n",
       " 'type - 0.0',\n",
       " 'airdate - 0.0',\n",
       " 'airtime - 0.0',\n",
       " 'airstamp - 0.0',\n",
       " 'runtime - 0.0455',\n",
       " 'summary - 0.7841',\n",
       " 'rating.average - 0.9773',\n",
       " 'image.medium - 0.7273',\n",
       " 'image.original - 0.7273',\n",
       " '_links.self.href - 0.0',\n",
       " '_embedded.show.id - 0.0',\n",
       " '_embedded.show.url - 0.0',\n",
       " '_embedded.show.name - 0.0',\n",
       " '_embedded.show.type - 0.0',\n",
       " '_embedded.show.language - 0.0227',\n",
       " '_embedded.show.genres - 0.0',\n",
       " '_embedded.show.status - 0.0',\n",
       " '_embedded.show.runtime - 0.25',\n",
       " '_embedded.show.averageRuntime - 0.0341',\n",
       " '_embedded.show.premiered - 0.0',\n",
       " '_embedded.show.ended - 0.5682',\n",
       " '_embedded.show.officialSite - 0.1477',\n",
       " '_embedded.show.schedule.time - 0.0',\n",
       " '_embedded.show.schedule.days - 0.0',\n",
       " '_embedded.show.rating.average - 0.9318',\n",
       " '_embedded.show.weight - 0.0',\n",
       " '_embedded.show.network - 1.0',\n",
       " '_embedded.show.webChannel.id - 0.0795',\n",
       " '_embedded.show.webChannel.name - 0.0795',\n",
       " '_embedded.show.webChannel.country - 1.0',\n",
       " '_embedded.show.webChannel.officialSite - 0.4318',\n",
       " '_embedded.show.dvdCountry - 1.0',\n",
       " '_embedded.show.externals.tvrage - 0.9773',\n",
       " '_embedded.show.externals.thetvdb - 0.3977',\n",
       " '_embedded.show.externals.imdb - 0.5568',\n",
       " '_embedded.show.image.medium - 0.0341',\n",
       " '_embedded.show.image.original - 0.0341',\n",
       " '_embedded.show.summary - 0.1364',\n",
       " '_embedded.show.updated - 0.0',\n",
       " '_embedded.show._links.self.href - 0.0',\n",
       " '_embedded.show._links.previousepisode.href - 0.0',\n",
       " 'image - 1.0',\n",
       " '_embedded.show.webChannel.country.name - 0.4886',\n",
       " '_embedded.show.webChannel.country.code - 0.4886',\n",
       " '_embedded.show.webChannel.country.timezone - 0.4886',\n",
       " '_embedded.show._links.nextepisode.href - 0.8977',\n",
       " '_embedded.show.network.id - 0.8409',\n",
       " '_embedded.show.network.name - 0.8409',\n",
       " '_embedded.show.network.country.name - 0.8409',\n",
       " '_embedded.show.network.country.code - 0.8409',\n",
       " '_embedded.show.network.country.timezone - 0.8409',\n",
       " '_embedded.show.network.officialSite - 1.0',\n",
       " '_embedded.show.webChannel - 1.0',\n",
       " '_embedded.show.image - 1.0',\n",
       " '_embedded.show.dvdCountry.name - 0.9773',\n",
       " '_embedded.show.dvdCountry.code - 0.9773',\n",
       " '_embedded.show.dvdCountry.timezone - 0.9773',\n",
       " 'id - 0.0',\n",
       " 'url - 0.0',\n",
       " 'name - 0.0',\n",
       " 'season - 0.0',\n",
       " 'number - 0.0066',\n",
       " 'type - 0.0',\n",
       " 'airdate - 0.0',\n",
       " 'airtime - 0.0',\n",
       " 'airstamp - 0.0',\n",
       " 'runtime - 0.1184',\n",
       " 'image - 1.0',\n",
       " 'summary - 0.6711',\n",
       " 'rating.average - 0.8684',\n",
       " '_links.self.href - 0.0',\n",
       " '_embedded.show.id - 0.0',\n",
       " '_embedded.show.url - 0.0',\n",
       " '_embedded.show.name - 0.0',\n",
       " '_embedded.show.type - 0.0',\n",
       " '_embedded.show.language - 0.0066',\n",
       " '_embedded.show.genres - 0.0',\n",
       " '_embedded.show.status - 0.0',\n",
       " '_embedded.show.runtime - 0.3947',\n",
       " '_embedded.show.averageRuntime - 0.0789',\n",
       " '_embedded.show.premiered - 0.0',\n",
       " '_embedded.show.ended - 0.5395',\n",
       " '_embedded.show.officialSite - 0.1711',\n",
       " '_embedded.show.schedule.time - 0.0',\n",
       " '_embedded.show.schedule.days - 0.0',\n",
       " '_embedded.show.rating.average - 0.7895',\n",
       " '_embedded.show.weight - 0.0',\n",
       " '_embedded.show.network.id - 0.9276',\n",
       " '_embedded.show.network.name - 0.9276',\n",
       " '_embedded.show.network.country.name - 0.9276',\n",
       " '_embedded.show.network.country.code - 0.9276',\n",
       " '_embedded.show.network.country.timezone - 0.9276',\n",
       " '_embedded.show.network.officialSite - 1.0',\n",
       " '_embedded.show.webChannel.id - 0.0132',\n",
       " '_embedded.show.webChannel.name - 0.0132',\n",
       " '_embedded.show.webChannel.country - 1.0',\n",
       " '_embedded.show.webChannel.officialSite - 0.3618',\n",
       " '_embedded.show.dvdCountry - 1.0',\n",
       " '_embedded.show.externals.tvrage - 0.9868',\n",
       " '_embedded.show.externals.thetvdb - 0.2237',\n",
       " '_embedded.show.externals.imdb - 0.4605',\n",
       " '_embedded.show.image.medium - 0.0132',\n",
       " '_embedded.show.image.original - 0.0132',\n",
       " '_embedded.show.summary - 0.1316',\n",
       " '_embedded.show.updated - 0.0',\n",
       " '_embedded.show._links.self.href - 0.0',\n",
       " '_embedded.show._links.previousepisode.href - 0.0',\n",
       " '_embedded.show.network - 1.0',\n",
       " '_embedded.show.webChannel.country.name - 0.5066',\n",
       " '_embedded.show.webChannel.country.code - 0.5066',\n",
       " '_embedded.show.webChannel.country.timezone - 0.5066',\n",
       " 'image.medium - 0.625',\n",
       " 'image.original - 0.625',\n",
       " '_embedded.show._links.nextepisode.href - 0.9474',\n",
       " '_embedded.show.image - 1.0',\n",
       " '_embedded.show.dvdCountry.name - 0.9934',\n",
       " '_embedded.show.dvdCountry.code - 0.9934',\n",
       " '_embedded.show.dvdCountry.timezone - 0.9934',\n",
       " '_embedded.show.webChannel - 1.0',\n",
       " 'id - 0.0',\n",
       " 'url - 0.0',\n",
       " 'name - 0.0',\n",
       " 'season - 0.0',\n",
       " 'number - 0.024',\n",
       " 'type - 0.0',\n",
       " 'airdate - 0.0',\n",
       " 'airtime - 0.0',\n",
       " 'airstamp - 0.0',\n",
       " 'runtime - 0.0838',\n",
       " 'image - 1.0',\n",
       " 'summary - 0.6946',\n",
       " 'rating.average - 0.8503',\n",
       " '_links.self.href - 0.0',\n",
       " '_embedded.show.id - 0.0',\n",
       " '_embedded.show.url - 0.0',\n",
       " '_embedded.show.name - 0.0',\n",
       " '_embedded.show.type - 0.0',\n",
       " '_embedded.show.language - 0.006',\n",
       " '_embedded.show.genres - 0.0',\n",
       " '_embedded.show.status - 0.0',\n",
       " '_embedded.show.runtime - 0.2754',\n",
       " '_embedded.show.averageRuntime - 0.0659',\n",
       " '_embedded.show.premiered - 0.0',\n",
       " '_embedded.show.ended - 0.4551',\n",
       " '_embedded.show.officialSite - 0.1078',\n",
       " '_embedded.show.schedule.time - 0.0',\n",
       " '_embedded.show.schedule.days - 0.0',\n",
       " '_embedded.show.rating.average - 0.8443',\n",
       " '_embedded.show.weight - 0.0',\n",
       " '_embedded.show.network - 1.0',\n",
       " '_embedded.show.webChannel.id - 0.018',\n",
       " '_embedded.show.webChannel.name - 0.018',\n",
       " '_embedded.show.webChannel.country.name - 0.4311',\n",
       " '_embedded.show.webChannel.country.code - 0.4311',\n",
       " '_embedded.show.webChannel.country.timezone - 0.4311',\n",
       " '_embedded.show.webChannel.officialSite - 0.515',\n",
       " '_embedded.show.dvdCountry - 1.0',\n",
       " '_embedded.show.externals.tvrage - 0.982',\n",
       " '_embedded.show.externals.thetvdb - 0.2036',\n",
       " '_embedded.show.externals.imdb - 0.3533',\n",
       " '_embedded.show.image.medium - 0.0299',\n",
       " '_embedded.show.image.original - 0.0299',\n",
       " '_embedded.show.summary - 0.1018',\n",
       " '_embedded.show.updated - 0.0',\n",
       " '_embedded.show._links.self.href - 0.0',\n",
       " '_embedded.show._links.previousepisode.href - 0.0',\n",
       " '_embedded.show._links.nextepisode.href - 0.9521',\n",
       " 'image.medium - 0.5749',\n",
       " 'image.original - 0.5749',\n",
       " '_embedded.show.webChannel.country - 1.0',\n",
       " '_embedded.show.network.id - 0.9641',\n",
       " '_embedded.show.network.name - 0.9641',\n",
       " '_embedded.show.network.country.name - 0.9641',\n",
       " '_embedded.show.network.country.code - 0.9641',\n",
       " '_embedded.show.network.country.timezone - 0.9641',\n",
       " '_embedded.show.network.officialSite - 1.0',\n",
       " '_embedded.show.webChannel - 1.0',\n",
       " '_embedded.show.image - 1.0',\n",
       " '_embedded.show.dvdCountry.name - 0.994',\n",
       " '_embedded.show.dvdCountry.code - 0.994',\n",
       " '_embedded.show.dvdCountry.timezone - 0.994',\n",
       " 'id - 0.0',\n",
       " 'url - 0.0',\n",
       " 'name - 0.0',\n",
       " 'season - 0.0',\n",
       " 'number - 0.0',\n",
       " 'type - 0.0',\n",
       " 'airdate - 0.0',\n",
       " 'airtime - 0.0',\n",
       " 'airstamp - 0.0',\n",
       " 'runtime - 0.0755',\n",
       " 'image - 1.0',\n",
       " 'summary - 0.6792',\n",
       " 'rating.average - 0.9245',\n",
       " '_links.self.href - 0.0',\n",
       " '_embedded.show.id - 0.0',\n",
       " '_embedded.show.url - 0.0',\n",
       " '_embedded.show.name - 0.0',\n",
       " '_embedded.show.type - 0.0',\n",
       " '_embedded.show.language - 0.0',\n",
       " '_embedded.show.genres - 0.0',\n",
       " '_embedded.show.status - 0.0',\n",
       " '_embedded.show.runtime - 0.2642',\n",
       " '_embedded.show.averageRuntime - 0.0943',\n",
       " '_embedded.show.premiered - 0.0',\n",
       " '_embedded.show.ended - 0.6038',\n",
       " '_embedded.show.officialSite - 0.0943',\n",
       " '_embedded.show.schedule.time - 0.0',\n",
       " '_embedded.show.schedule.days - 0.0',\n",
       " '_embedded.show.rating.average - 0.9245',\n",
       " '_embedded.show.weight - 0.0',\n",
       " '_embedded.show.network - 1.0',\n",
       " '_embedded.show.webChannel.id - 0.0566',\n",
       " '_embedded.show.webChannel.name - 0.0566',\n",
       " '_embedded.show.webChannel.country.name - 0.4528',\n",
       " '_embedded.show.webChannel.country.code - 0.4528',\n",
       " '_embedded.show.webChannel.country.timezone - 0.4528',\n",
       " '_embedded.show.webChannel.officialSite - 0.5849',\n",
       " '_embedded.show.dvdCountry - 1.0',\n",
       " '_embedded.show.externals.tvrage - 0.9623',\n",
       " '_embedded.show.externals.thetvdb - 0.283',\n",
       " '_embedded.show.externals.imdb - 0.566',\n",
       " '_embedded.show.image.medium - 0.0566',\n",
       " '_embedded.show.image.original - 0.0566',\n",
       " '_embedded.show.summary - 0.0377',\n",
       " '_embedded.show.updated - 0.0',\n",
       " '_embedded.show._links.self.href - 0.0',\n",
       " '_embedded.show._links.previousepisode.href - 0.0',\n",
       " '_embedded.show._links.nextepisode.href - 0.9434',\n",
       " 'image.medium - 0.6604',\n",
       " 'image.original - 0.6604',\n",
       " '_embedded.show.image - 1.0',\n",
       " '_embedded.show.network.id - 0.8679',\n",
       " '_embedded.show.network.name - 0.8679',\n",
       " '_embedded.show.network.country.name - 0.8679',\n",
       " '_embedded.show.network.country.code - 0.8679',\n",
       " '_embedded.show.network.country.timezone - 0.8679',\n",
       " '_embedded.show.network.officialSite - 1.0',\n",
       " '_embedded.show.webChannel - 1.0',\n",
       " '_embedded.show.webChannel.country - 1.0',\n",
       " 'id - 0.0',\n",
       " 'url - 0.0',\n",
       " 'name - 0.0',\n",
       " 'season - 0.0',\n",
       " 'number - 0.0667',\n",
       " 'type - 0.0',\n",
       " 'airdate - 0.0',\n",
       " 'airtime - 0.0',\n",
       " 'airstamp - 0.0',\n",
       " 'runtime - 0.1',\n",
       " 'summary - 0.7333',\n",
       " 'rating.average - 0.9667',\n",
       " 'image.medium - 0.5833',\n",
       " 'image.original - 0.5833',\n",
       " '_links.self.href - 0.0',\n",
       " '_embedded.show.id - 0.0',\n",
       " '_embedded.show.url - 0.0',\n",
       " '_embedded.show.name - 0.0',\n",
       " '_embedded.show.type - 0.0',\n",
       " '_embedded.show.language - 0.0',\n",
       " '_embedded.show.genres - 0.0',\n",
       " '_embedded.show.status - 0.0',\n",
       " '_embedded.show.runtime - 0.3167',\n",
       " '_embedded.show.averageRuntime - 0.0667',\n",
       " '_embedded.show.premiered - 0.0',\n",
       " '_embedded.show.ended - 0.65',\n",
       " '_embedded.show.officialSite - 0.0333',\n",
       " '_embedded.show.schedule.time - 0.0',\n",
       " '_embedded.show.schedule.days - 0.0',\n",
       " '_embedded.show.rating.average - 0.9',\n",
       " '_embedded.show.weight - 0.0',\n",
       " '_embedded.show.network.id - 0.8833',\n",
       " '_embedded.show.network.name - 0.8833',\n",
       " '_embedded.show.network.country.name - 0.8833',\n",
       " '_embedded.show.network.country.code - 0.8833',\n",
       " '_embedded.show.network.country.timezone - 0.8833',\n",
       " '_embedded.show.network.officialSite - 0.9667',\n",
       " '_embedded.show.webChannel - 1.0',\n",
       " '_embedded.show.dvdCountry - 1.0',\n",
       " '_embedded.show.externals.tvrage - 1.0',\n",
       " '_embedded.show.externals.thetvdb - 0.2833',\n",
       " '_embedded.show.externals.imdb - 0.4833',\n",
       " '_embedded.show.image.medium - 0.0667',\n",
       " '_embedded.show.image.original - 0.0667',\n",
       " '_embedded.show.summary - 0.0833',\n",
       " '_embedded.show.updated - 0.0',\n",
       " '_embedded.show._links.self.href - 0.0',\n",
       " '_embedded.show._links.previousepisode.href - 0.0',\n",
       " 'image - 1.0',\n",
       " '_embedded.show.network - 1.0',\n",
       " '_embedded.show.webChannel.id - 0.05',\n",
       " '_embedded.show.webChannel.name - 0.05',\n",
       " '_embedded.show.webChannel.country - 1.0',\n",
       " '_embedded.show.webChannel.officialSite - 0.65',\n",
       " '_embedded.show.webChannel.country.name - 0.3667',\n",
       " '_embedded.show.webChannel.country.code - 0.3667',\n",
       " '_embedded.show.webChannel.country.timezone - 0.3667',\n",
       " '_embedded.show._links.nextepisode.href - 0.9',\n",
       " '_embedded.show.image - 1.0',\n",
       " '_embedded.show.dvdCountry.name - 0.9833',\n",
       " '_embedded.show.dvdCountry.code - 0.9833',\n",
       " '_embedded.show.dvdCountry.timezone - 0.9833',\n",
       " 'id - 0.0',\n",
       " 'url - 0.0',\n",
       " 'name - 0.0',\n",
       " 'season - 0.0',\n",
       " 'number - 0.0',\n",
       " 'type - 0.0',\n",
       " 'airdate - 0.0',\n",
       " 'airtime - 0.0',\n",
       " 'airstamp - 0.0',\n",
       " 'runtime - 0.0545',\n",
       " 'image - 1.0',\n",
       " 'summary - 0.7273',\n",
       " 'rating.average - 0.9',\n",
       " '_links.self.href - 0.0',\n",
       " '_embedded.show.id - 0.0',\n",
       " '_embedded.show.url - 0.0',\n",
       " '_embedded.show.name - 0.0',\n",
       " '_embedded.show.type - 0.0',\n",
       " '_embedded.show.language - 0.0091',\n",
       " '_embedded.show.genres - 0.0',\n",
       " '_embedded.show.status - 0.0',\n",
       " '_embedded.show.runtime - 0.2091',\n",
       " '_embedded.show.averageRuntime - 0.0182',\n",
       " '_embedded.show.premiered - 0.0',\n",
       " '_embedded.show.ended - 0.4818',\n",
       " '_embedded.show.officialSite - 0.1273',\n",
       " '_embedded.show.schedule.time - 0.0',\n",
       " '_embedded.show.schedule.days - 0.0',\n",
       " '_embedded.show.rating.average - 0.7636',\n",
       " '_embedded.show.weight - 0.0',\n",
       " '_embedded.show.network - 1.0',\n",
       " '_embedded.show.webChannel.id - 0.0091',\n",
       " '_embedded.show.webChannel.name - 0.0091',\n",
       " '_embedded.show.webChannel.country.name - 0.5364',\n",
       " '_embedded.show.webChannel.country.code - 0.5364',\n",
       " '_embedded.show.webChannel.country.timezone - 0.5364',\n",
       " '_embedded.show.webChannel.officialSite - 0.4182',\n",
       " '_embedded.show.dvdCountry - 1.0',\n",
       " '_embedded.show.externals.tvrage - 0.9727',\n",
       " '_embedded.show.externals.thetvdb - 0.1364',\n",
       " '_embedded.show.externals.imdb - 0.4727',\n",
       " '_embedded.show.image.medium - 0.1182',\n",
       " '_embedded.show.image.original - 0.1182',\n",
       " '_embedded.show.summary - 0.2',\n",
       " '_embedded.show.updated - 0.0',\n",
       " '_embedded.show._links.self.href - 0.0',\n",
       " '_embedded.show._links.previousepisode.href - 0.0',\n",
       " '_embedded.show._links.nextepisode.href - 0.9182',\n",
       " 'image.medium - 0.6909',\n",
       " 'image.original - 0.6909',\n",
       " '_embedded.show.network.id - 0.9455',\n",
       " '_embedded.show.network.name - 0.9455',\n",
       " '_embedded.show.network.country.name - 0.9455',\n",
       " '_embedded.show.network.country.code - 0.9455',\n",
       " '_embedded.show.network.country.timezone - 0.9455',\n",
       " '_embedded.show.network.officialSite - 1.0',\n",
       " '_embedded.show.webChannel.country - 1.0',\n",
       " '_embedded.show.image - 1.0',\n",
       " '_embedded.show.webChannel - 1.0',\n",
       " 'id - 0.0',\n",
       " 'url - 0.0',\n",
       " 'name - 0.0',\n",
       " 'season - 0.0',\n",
       " 'number - 0.0261',\n",
       " 'type - 0.0',\n",
       " 'airdate - 0.0',\n",
       " 'airtime - 0.0',\n",
       " 'airstamp - 0.0',\n",
       " 'runtime - 0.0609',\n",
       " 'image - 1.0',\n",
       " 'summary - 0.5304',\n",
       " 'rating.average - 0.9739',\n",
       " '_links.self.href - 0.0',\n",
       " '_embedded.show.id - 0.0',\n",
       " '_embedded.show.url - 0.0',\n",
       " '_embedded.show.name - 0.0',\n",
       " '_embedded.show.type - 0.0',\n",
       " '_embedded.show.language - 0.0087',\n",
       " '_embedded.show.genres - 0.0',\n",
       " '_embedded.show.status - 0.0',\n",
       " '_embedded.show.runtime - 0.4522',\n",
       " '_embedded.show.averageRuntime - 0.0435',\n",
       " '_embedded.show.premiered - 0.0',\n",
       " '_embedded.show.ended - 0.487',\n",
       " '_embedded.show.officialSite - 0.0609',\n",
       " '_embedded.show.schedule.time - 0.0',\n",
       " '_embedded.show.schedule.days - 0.0',\n",
       " '_embedded.show.rating.average - 0.9391',\n",
       " '_embedded.show.weight - 0.0',\n",
       " '_embedded.show.network - 1.0',\n",
       " '_embedded.show.webChannel.id - 0.0348',\n",
       " '_embedded.show.webChannel.name - 0.0348',\n",
       " '_embedded.show.webChannel.country.name - 0.687',\n",
       " '_embedded.show.webChannel.country.code - 0.687',\n",
       " '_embedded.show.webChannel.country.timezone - 0.687',\n",
       " '_embedded.show.webChannel.officialSite - 0.2957',\n",
       " '_embedded.show.dvdCountry - 1.0',\n",
       " '_embedded.show.externals.tvrage - 0.9913',\n",
       " '_embedded.show.externals.thetvdb - 0.5217',\n",
       " '_embedded.show.externals.imdb - 0.6522',\n",
       " '_embedded.show.image.medium - 0.0261',\n",
       " '_embedded.show.image.original - 0.0261',\n",
       " '_embedded.show.summary - 0.0696',\n",
       " '_embedded.show.updated - 0.0',\n",
       " '_embedded.show._links.self.href - 0.0',\n",
       " '_embedded.show._links.previousepisode.href - 0.0',\n",
       " '_embedded.show.webChannel.country - 1.0',\n",
       " 'image.medium - 0.5217',\n",
       " 'image.original - 0.5217',\n",
       " '_embedded.show.network.id - 0.9217',\n",
       " '_embedded.show.network.name - 0.9217',\n",
       " '_embedded.show.network.country.name - 0.9217',\n",
       " '_embedded.show.network.country.code - 0.9217',\n",
       " '_embedded.show.network.country.timezone - 0.9217',\n",
       " '_embedded.show.network.officialSite - 1.0',\n",
       " '_embedded.show._links.nextepisode.href - 0.9304',\n",
       " '_embedded.show.image - 1.0',\n",
       " '_embedded.show.dvdCountry.name - 0.9826',\n",
       " '_embedded.show.dvdCountry.code - 0.9826',\n",
       " '_embedded.show.dvdCountry.timezone - 0.9826',\n",
       " '_embedded.show.webChannel - 1.0',\n",
       " 'id - 0.0',\n",
       " 'url - 0.0',\n",
       " 'name - 0.0',\n",
       " 'season - 0.0',\n",
       " 'number - 0.0172',\n",
       " 'type - 0.0',\n",
       " 'airdate - 0.0',\n",
       " 'airtime - 0.0',\n",
       " 'airstamp - 0.0',\n",
       " 'runtime - 0.0862',\n",
       " 'summary - 0.6983',\n",
       " 'rating.average - 0.931',\n",
       " 'image.medium - 0.6897',\n",
       " 'image.original - 0.6897',\n",
       " '_links.self.href - 0.0',\n",
       " '_embedded.show.id - 0.0',\n",
       " '_embedded.show.url - 0.0',\n",
       " '_embedded.show.name - 0.0',\n",
       " '_embedded.show.type - 0.0',\n",
       " '_embedded.show.language - 0.0517',\n",
       " '_embedded.show.genres - 0.0',\n",
       " '_embedded.show.status - 0.0',\n",
       " '_embedded.show.runtime - 0.3966',\n",
       " '_embedded.show.averageRuntime - 0.0517',\n",
       " '_embedded.show.premiered - 0.0',\n",
       " '_embedded.show.ended - 0.4397',\n",
       " '_embedded.show.officialSite - 0.1379',\n",
       " '_embedded.show.schedule.time - 0.0',\n",
       " '_embedded.show.schedule.days - 0.0',\n",
       " '_embedded.show.rating.average - 0.9138',\n",
       " '_embedded.show.weight - 0.0',\n",
       " '_embedded.show.network - 1.0',\n",
       " '_embedded.show.webChannel.id - 0.0259',\n",
       " '_embedded.show.webChannel.name - 0.0259',\n",
       " '_embedded.show.webChannel.country - 1.0',\n",
       " '_embedded.show.webChannel.officialSite - 0.2672',\n",
       " '_embedded.show.dvdCountry - 1.0',\n",
       " '_embedded.show.externals.tvrage - 0.9569',\n",
       " '_embedded.show.externals.thetvdb - 0.3621',\n",
       " '_embedded.show.externals.imdb - 0.5345',\n",
       " '_embedded.show.image.medium - 0.0345',\n",
       " '_embedded.show.image.original - 0.0345',\n",
       " '_embedded.show.summary - 0.0948',\n",
       " '_embedded.show.updated - 0.0',\n",
       " '_embedded.show._links.self.href - 0.0',\n",
       " '_embedded.show._links.previousepisode.href - 0.0',\n",
       " 'image - 1.0',\n",
       " '_embedded.show.webChannel.country.name - 0.5948',\n",
       " '_embedded.show.webChannel.country.code - 0.5948',\n",
       " '_embedded.show.webChannel.country.timezone - 0.5948',\n",
       " '_embedded.show._links.nextepisode.href - 0.9224',\n",
       " '_embedded.show.network.id - 0.9138',\n",
       " '_embedded.show.network.name - 0.9138',\n",
       " '_embedded.show.network.country.name - 0.9138',\n",
       " '_embedded.show.network.country.code - 0.9138',\n",
       " '_embedded.show.network.country.timezone - 0.9138',\n",
       " '_embedded.show.network.officialSite - 0.9914',\n",
       " '_embedded.show.webChannel - 1.0',\n",
       " '_embedded.show.image - 1.0',\n",
       " '_embedded.show.dvdCountry.name - 0.9914',\n",
       " '_embedded.show.dvdCountry.code - 0.9914',\n",
       " '_embedded.show.dvdCountry.timezone - 0.9914',\n",
       " 'id - 0.0',\n",
       " 'url - 0.0',\n",
       " 'name - 0.0',\n",
       " 'season - 0.0',\n",
       " 'number - 0.0364',\n",
       " 'type - 0.0',\n",
       " 'airdate - 0.0',\n",
       " 'airtime - 0.0',\n",
       " 'airstamp - 0.0',\n",
       " 'runtime - 0.0818',\n",
       " 'image - 1.0',\n",
       " 'summary - 0.7727',\n",
       " 'rating.average - 0.9455',\n",
       " '_links.self.href - 0.0',\n",
       " '_embedded.show.id - 0.0',\n",
       " '_embedded.show.url - 0.0',\n",
       " '_embedded.show.name - 0.0',\n",
       " '_embedded.show.type - 0.0',\n",
       " '_embedded.show.language - 0.0091',\n",
       " '_embedded.show.genres - 0.0',\n",
       " ...]"
      ]
     },
     "execution_count": 25,
     "metadata": {},
     "output_type": "execute_result"
    }
   ],
   "source": [
    "nulos"
   ]
  },
  {
   "cell_type": "markdown",
   "metadata": {},
   "source": [
    "Revisando cada DF registrado para cada dia de Diciembre 2020, se pueden destacar los siguientes puntos:\n",
    "\n",
    "(i) Las primeras 10 variables estan casi todas completas. \n",
    "\n",
    "(ii) La variable Runtime esta entre un 2% y un 15% de datos faltantes.\n",
    "\n",
    "(iii) De los datos embebidos para cada uno de los registros, genero es uno que siempre esta completo. Sin embargo, preocupan datos como rating.average o la informacion por pais que en su gran mayoria es nula. \n",
    "\n",
    "(iv) Una variable embebida que tiene poca cantidad de datos nulos es _embedded.show.averageRuntime importantisima para el analisis de los datos. "
   ]
  },
  {
   "cell_type": "markdown",
   "metadata": {},
   "source": [
    "### (2.3) Informacion mas importante para el cliente"
   ]
  },
  {
   "cell_type": "markdown",
   "metadata": {},
   "source": [
    "La informacion mas importante para el cliente es: \n",
    "\n",
    "(i) average runtime por mes: Se encuentran los datos con pocos nulos.\n",
    "\n",
    "(ii) serie emitidas por genero por mes: se encuentran los datos con pocos o sin datos faltantes.\n",
    "\n",
    "(iii) porcentaje por pais de series emitidas por mes: se deben revisar en que casos esta la informacion del Pais.\n",
    "\n",
    "(iv) rating promedio de series por pais y genero por mes: preocupante por la cantidad importante de datos nulos que hay relacionados a estas variables de interes."
   ]
  },
  {
   "cell_type": "markdown",
   "metadata": {},
   "source": [
    "## (3) Creacion y Revision de DataFrames"
   ]
  },
  {
   "cell_type": "markdown",
   "metadata": {},
   "source": [
    "Con base en como estan los datos obtenidos de la API (filas y columnas), el numero de datos faltantes por cada variable registrada durante el periodo analizado (Diciembre 2020), y las variables de interes por parte del cliente se ha definido crear 5 diferentes Dataframes que contienen la informacion mas relevante para el cliente:\n",
    "\n",
    "(3.1) Air Basic DF: ['id','url','name','season','type','airdate','airtime','airstamp']\n",
    "\n",
    "(3.2) Genre-Status DF: ['id','_embedded.show.genres','_embedded.show.status','_embedded.show.premiered',\n",
    "                      '_embedded.show.schedule.time','_embedded.show.schedule.days','_embedded.show.weight','_embedded.show.updated']\n",
    "\n",
    "(3.3) Country DF: ['id','_embedded.show.webChannel.name','_embedded.show.webChannel.country.name',\n",
    "                 '_embedded.show.webChannel.country.code','_embedded.show.webChannel.country.timezone']\n",
    "\n",
    "(3.4) Runtime DF: ['id','runtime','_embedded.show.averageRuntime']\n",
    "\n",
    "(3.5) Ratings DF: ['id','rating.average','_embedded.show.rating.average','_embedded.show.externals.imdb',\n",
    "                 '_embedded.show.externals.tvrage','_embedded.show.externals.thetvdb']"
   ]
  },
  {
   "cell_type": "markdown",
   "metadata": {},
   "source": [
    "### (3.1) Air Basic DF"
   ]
  },
  {
   "cell_type": "markdown",
   "metadata": {},
   "source": [
    "#### (3.1.0) Compilacion del DF:"
   ]
  },
  {
   "cell_type": "code",
   "execution_count": 26,
   "metadata": {},
   "outputs": [],
   "source": [
    "# Creacion de la lista de las fechas de interes:\n",
    "list_air_basic = []\n",
    "for i in list_dfs:\n",
    "    list_air_basic.append(i[['id','url','name','season','type','airdate','airtime','airstamp']])"
   ]
  },
  {
   "cell_type": "code",
   "execution_count": 27,
   "metadata": {},
   "outputs": [],
   "source": [
    "# Uniendo todos los data Frames en uno solo:\n",
    "df_air_basic = pd.concat(list_air_basic, ignore_index=True)"
   ]
  },
  {
   "cell_type": "markdown",
   "metadata": {},
   "source": [
    "#### (3.1.1) Revision basica del DF:"
   ]
  },
  {
   "cell_type": "code",
   "execution_count": 28,
   "metadata": {},
   "outputs": [
    {
     "name": "stdout",
     "output_type": "stream",
     "text": [
      "<class 'pandas.core.frame.DataFrame'>\n",
      "RangeIndex: 3082 entries, 0 to 3081\n",
      "Data columns (total 8 columns):\n",
      " #   Column    Non-Null Count  Dtype \n",
      "---  ------    --------------  ----- \n",
      " 0   id        3082 non-null   int64 \n",
      " 1   url       3082 non-null   object\n",
      " 2   name      3082 non-null   object\n",
      " 3   season    3082 non-null   int64 \n",
      " 4   type      3082 non-null   object\n",
      " 5   airdate   3082 non-null   object\n",
      " 6   airtime   3082 non-null   object\n",
      " 7   airstamp  3082 non-null   object\n",
      "dtypes: int64(2), object(6)\n",
      "memory usage: 192.8+ KB\n"
     ]
    }
   ],
   "source": [
    "# info basica:\n",
    "df_air_basic.info()"
   ]
  },
  {
   "cell_type": "code",
   "execution_count": 29,
   "metadata": {},
   "outputs": [],
   "source": [
    "# Mirada general al df_air_basic:\n",
    "# df_air_basic\n",
    "# Se detecta la variable airtime hay valores que son ceros o vacios."
   ]
  },
  {
   "cell_type": "code",
   "execution_count": 30,
   "metadata": {},
   "outputs": [
    {
     "data": {
      "text/plain": [
       "         2159\n",
       "20:00     337\n",
       "12:00     114\n",
       "06:00      74\n",
       "21:00      72\n",
       "         ... \n",
       "22:20       1\n",
       "09:15       1\n",
       "09:30       1\n",
       "21:55       1\n",
       "21:45       1\n",
       "Name: airtime, Length: 61, dtype: int64"
      ]
     },
     "execution_count": 30,
     "metadata": {},
     "output_type": "execute_result"
    }
   ],
   "source": [
    "# Revision de los valores de 'airtime':\n",
    "df_air_basic['airtime'].value_counts()\n",
    "# Hay 2159 valores que no tienen un valor designado. \n",
    "# En este caso hay dos opciones, o 00:00 es el tiempo de airtime o se desconoce la hora exacta de 'airtime' para dichas series.\n",
    "# Para este ejercicio la idea seria ponerles el tiempo 00:00"
   ]
  },
  {
   "cell_type": "code",
   "execution_count": 31,
   "metadata": {},
   "outputs": [
    {
     "data": {
      "text/plain": [
       "Episode 1            65\n",
       "Episode 2            64\n",
       "Episode 5            62\n",
       "Episode 3            61\n",
       "Episode 4            59\n",
       "                     ..\n",
       "Episode 56            2\n",
       "Christmas Special     2\n",
       "第133集                 2\n",
       "Episode 80            2\n",
       "Vinnytsia Region      1\n",
       "Name: name, Length: 115, dtype: int64"
      ]
     },
     "execution_count": 31,
     "metadata": {},
     "output_type": "execute_result"
    }
   ],
   "source": [
    "# Revision de los valores de 'name':\n",
    "df_air_basic['name'].value_counts().head(115)\n",
    "# Existen nombre de series repetidos y especialmente aparecen series con nombre de 'Episode #'.\n",
    "# Para validar si cada entrada de la variable name es unico, se debe unir con la columna 'season'.\n",
    "# Ya que una misma serie puede tener varias temporadas que se hayan estrenado en un mismo canal (o diferentes canales) de tv durante Diciembre 2020. \n",
    "# Hay al menos 114 series que tienen el nombre repetido en el data set."
   ]
  },
  {
   "cell_type": "code",
   "execution_count": 32,
   "metadata": {},
   "outputs": [
    {
     "data": {
      "text/plain": [
       "1       1891\n",
       "2        354\n",
       "2020     224\n",
       "3        171\n",
       "4        156\n",
       "5         54\n",
       "7         41\n",
       "6         35\n",
       "18        23\n",
       "9         23\n",
       "10        19\n",
       "8         19\n",
       "31        19\n",
       "12         7\n",
       "19         6\n",
       "14         6\n",
       "51         5\n",
       "15         5\n",
       "27         4\n",
       "48         4\n",
       "30         4\n",
       "17         3\n",
       "11         3\n",
       "54         2\n",
       "13         2\n",
       "16         1\n",
       "23         1\n",
       "Name: season, dtype: int64"
      ]
     },
     "execution_count": 32,
     "metadata": {},
     "output_type": "execute_result"
    }
   ],
   "source": [
    "# Revision de los valores de 'season':\n",
    "df_air_basic['season'].value_counts()\n",
    "# Todos los registros ingresados tienen una temporada asignada (season). \n",
    "# No hay datos nulos en temporada."
   ]
  },
  {
   "cell_type": "code",
   "execution_count": 33,
   "metadata": {},
   "outputs": [
    {
     "data": {
      "text/plain": [
       "regular                  3001\n",
       "significant_special        45\n",
       "insignificant_special      36\n",
       "Name: type, dtype: int64"
      ]
     },
     "execution_count": 33,
     "metadata": {},
     "output_type": "execute_result"
    }
   ],
   "source": [
    "# Revision de los valores de 'type':\n",
    "df_air_basic['type'].value_counts()\n",
    "# Hay un desbalance entre categorias. El 97% de los datos ingresados pertenecen a la categoria 'regular'."
   ]
  },
  {
   "cell_type": "code",
   "execution_count": 34,
   "metadata": {},
   "outputs": [
    {
     "data": {
      "text/plain": [
       "https://www.tvmaze.com/episodes/1979824/sim-for-you-4x16-chanyeols-episode-16                          1\n",
       "https://www.tvmaze.com/episodes/2068349/doomsday-awakening-2x01-episode-1                              1\n",
       "https://www.tvmaze.com/episodes/2006162/roadkill-9x13-dirt-track-rally-shootout                        1\n",
       "https://www.tvmaze.com/episodes/1980398/the-young-turks-2020-12-21-december-21-2020-hour-1             1\n",
       "https://www.tvmaze.com/episodes/1980399/the-young-turks-2020-12-21-december-21-2020-hour-2             1\n",
       "                                                                                                      ..\n",
       "https://www.tvmaze.com/episodes/1910447/the-founder-of-diabolism-q-1x21-a-tutorial                     1\n",
       "https://www.tvmaze.com/episodes/1998576/mr-right-is-here-1x05-episode-5                                1\n",
       "https://www.tvmaze.com/episodes/1998577/mr-right-is-here-1x06-episode-6                                1\n",
       "https://www.tvmaze.com/episodes/2013866/kl-gangster-underworld-2x02-episode-2                          1\n",
       "https://www.tvmaze.com/episodes/2005102/carl-webers-the-family-business-2x12-the-hunt-for-brother-x    1\n",
       "Name: url, Length: 3082, dtype: int64"
      ]
     },
     "execution_count": 34,
     "metadata": {},
     "output_type": "execute_result"
    }
   ],
   "source": [
    "# Revision de la variable 'url':\n",
    "df_air_basic['url'].value_counts()\n",
    "# cada una de las entradas es proveniente de una url diferente (no se repiten urls en el data set).  "
   ]
  },
  {
   "cell_type": "markdown",
   "metadata": {},
   "source": [
    "#### (3.1.2) Mejoras del DF:"
   ]
  },
  {
   "cell_type": "code",
   "execution_count": 35,
   "metadata": {},
   "outputs": [],
   "source": [
    "# Cambio de categorias antes de hacer el profiling:\n",
    "# (i) las variables airdate y airstamp de object a datetime[ns]\n",
    "# (ii) la variable type de object a category (int).\n",
    "# (iii) unir las variables name y season. La variable resultante pasarla de object a category\n",
    "# (iv) identificar el verdadero nombre de las series emitidas (el data set da el nombre de los episodios, pero no de las series)"
   ]
  },
  {
   "cell_type": "code",
   "execution_count": 36,
   "metadata": {},
   "outputs": [],
   "source": [
    "# (i) las variables airdate, airtime, airstamp de object a datetime[ns]"
   ]
  },
  {
   "cell_type": "code",
   "execution_count": 37,
   "metadata": {},
   "outputs": [],
   "source": [
    "df_air_basic['airdate'] = df_air_basic['airdate'].astype('datetime64[ns]')"
   ]
  },
  {
   "cell_type": "code",
   "execution_count": 38,
   "metadata": {},
   "outputs": [],
   "source": [
    "df_air_basic['airstamp'] = df_air_basic['airstamp'].astype('datetime64[ns]')"
   ]
  },
  {
   "cell_type": "code",
   "execution_count": 39,
   "metadata": {},
   "outputs": [],
   "source": [
    "# (ii) la variable type de object a category\n",
    "df_air_basic['type'] = df_air_basic['type'].astype('category')\n",
    "df_air_basic['type'] = df_air_basic['type'].cat.codes"
   ]
  },
  {
   "cell_type": "code",
   "execution_count": 40,
   "metadata": {},
   "outputs": [
    {
     "data": {
      "text/plain": [
       "1    3001\n",
       "2      45\n",
       "0      36\n",
       "Name: type, dtype: int64"
      ]
     },
     "execution_count": 40,
     "metadata": {},
     "output_type": "execute_result"
    }
   ],
   "source": [
    "df_air_basic['type'].value_counts()\n",
    "# 0: insignificant_special\n",
    "# 1: regular\n",
    "# 2: significant_special\n",
    "# con codigos numericos para cada categoria se puede revisar la correlacion entre variables "
   ]
  },
  {
   "cell_type": "code",
   "execution_count": 41,
   "metadata": {},
   "outputs": [],
   "source": [
    "# (iii) Union 'name + season' y revision de duplicados:\n",
    "# Adicionando una columna vacia al df_air_basic\n",
    "df_air_basic.insert(8,'name_season','',True) "
   ]
  },
  {
   "cell_type": "code",
   "execution_count": 42,
   "metadata": {},
   "outputs": [],
   "source": [
    "# Cambiando la categoria de season:\n",
    "df_air_basic['season'] = df_air_basic['season'].astype(str)"
   ]
  },
  {
   "cell_type": "code",
   "execution_count": 43,
   "metadata": {},
   "outputs": [
    {
     "name": "stdout",
     "output_type": "stream",
     "text": [
      "<class 'pandas.core.frame.DataFrame'>\n",
      "RangeIndex: 3082 entries, 0 to 3081\n",
      "Data columns (total 9 columns):\n",
      " #   Column       Non-Null Count  Dtype         \n",
      "---  ------       --------------  -----         \n",
      " 0   id           3082 non-null   int64         \n",
      " 1   url          3082 non-null   object        \n",
      " 2   name         3082 non-null   object        \n",
      " 3   season       3082 non-null   object        \n",
      " 4   type         3082 non-null   int8          \n",
      " 5   airdate      3082 non-null   datetime64[ns]\n",
      " 6   airtime      3082 non-null   object        \n",
      " 7   airstamp     3082 non-null   datetime64[ns]\n",
      " 8   name_season  3082 non-null   object        \n",
      "dtypes: datetime64[ns](2), int64(1), int8(1), object(5)\n",
      "memory usage: 195.8+ KB\n"
     ]
    }
   ],
   "source": [
    "df_air_basic.info()"
   ]
  },
  {
   "cell_type": "code",
   "execution_count": 44,
   "metadata": {},
   "outputs": [],
   "source": [
    "# Uniendo dos columnas en una:\n",
    "#df_air_basic[['name_season']] = df_air_basic[['name']] +'-'+df_air_basic[['season']].astype(str)\n",
    "df_air_basic['name_season'] = df_air_basic[['name', 'season']].apply(\"-\".join, axis=1)"
   ]
  },
  {
   "cell_type": "code",
   "execution_count": 45,
   "metadata": {},
   "outputs": [
    {
     "data": {
      "text/html": [
       "<div>\n",
       "<style scoped>\n",
       "    .dataframe tbody tr th:only-of-type {\n",
       "        vertical-align: middle;\n",
       "    }\n",
       "\n",
       "    .dataframe tbody tr th {\n",
       "        vertical-align: top;\n",
       "    }\n",
       "\n",
       "    .dataframe thead th {\n",
       "        text-align: right;\n",
       "    }\n",
       "</style>\n",
       "<table border=\"1\" class=\"dataframe\">\n",
       "  <thead>\n",
       "    <tr style=\"text-align: right;\">\n",
       "      <th></th>\n",
       "      <th>id</th>\n",
       "      <th>url</th>\n",
       "      <th>name</th>\n",
       "      <th>season</th>\n",
       "      <th>type</th>\n",
       "      <th>airdate</th>\n",
       "      <th>airtime</th>\n",
       "      <th>airstamp</th>\n",
       "      <th>name_season</th>\n",
       "    </tr>\n",
       "  </thead>\n",
       "  <tbody>\n",
       "    <tr>\n",
       "      <th>0</th>\n",
       "      <td>1979824</td>\n",
       "      <td>https://www.tvmaze.com/episodes/1979824/sim-fo...</td>\n",
       "      <td>Chanyeol's Episode 16</td>\n",
       "      <td>4</td>\n",
       "      <td>1</td>\n",
       "      <td>2020-12-01</td>\n",
       "      <td>06:00</td>\n",
       "      <td>2020-11-30 21:00:00</td>\n",
       "      <td>Chanyeol's Episode 16-4</td>\n",
       "    </tr>\n",
       "    <tr>\n",
       "      <th>1</th>\n",
       "      <td>1979222</td>\n",
       "      <td>https://www.tvmaze.com/episodes/1979222/kotiki...</td>\n",
       "      <td>Серия 2</td>\n",
       "      <td>1</td>\n",
       "      <td>1</td>\n",
       "      <td>2020-12-01</td>\n",
       "      <td></td>\n",
       "      <td>2020-12-01 00:00:00</td>\n",
       "      <td>Серия 2-1</td>\n",
       "    </tr>\n",
       "    <tr>\n",
       "      <th>2</th>\n",
       "      <td>2008027</td>\n",
       "      <td>https://www.tvmaze.com/episodes/2008027/lab-s-...</td>\n",
       "      <td>Лолита</td>\n",
       "      <td>2</td>\n",
       "      <td>1</td>\n",
       "      <td>2020-12-01</td>\n",
       "      <td></td>\n",
       "      <td>2020-12-01 00:00:00</td>\n",
       "      <td>Лолита-2</td>\n",
       "    </tr>\n",
       "    <tr>\n",
       "      <th>3</th>\n",
       "      <td>1964565</td>\n",
       "      <td>https://www.tvmaze.com/episodes/1964565/core-s...</td>\n",
       "      <td>Episode 9</td>\n",
       "      <td>1</td>\n",
       "      <td>1</td>\n",
       "      <td>2020-12-01</td>\n",
       "      <td>10:00</td>\n",
       "      <td>2020-12-01 02:00:00</td>\n",
       "      <td>Episode 9-1</td>\n",
       "    </tr>\n",
       "    <tr>\n",
       "      <th>4</th>\n",
       "      <td>2052503</td>\n",
       "      <td>https://www.tvmaze.com/episodes/2052503/wu-she...</td>\n",
       "      <td>Episode 80</td>\n",
       "      <td>1</td>\n",
       "      <td>1</td>\n",
       "      <td>2020-12-01</td>\n",
       "      <td>10:00</td>\n",
       "      <td>2020-12-01 02:00:00</td>\n",
       "      <td>Episode 80-1</td>\n",
       "    </tr>\n",
       "    <tr>\n",
       "      <th>...</th>\n",
       "      <td>...</td>\n",
       "      <td>...</td>\n",
       "      <td>...</td>\n",
       "      <td>...</td>\n",
       "      <td>...</td>\n",
       "      <td>...</td>\n",
       "      <td>...</td>\n",
       "      <td>...</td>\n",
       "      <td>...</td>\n",
       "    </tr>\n",
       "    <tr>\n",
       "      <th>3077</th>\n",
       "      <td>2005098</td>\n",
       "      <td>https://www.tvmaze.com/episodes/2005098/carl-w...</td>\n",
       "      <td>The Nuclear Option</td>\n",
       "      <td>2</td>\n",
       "      <td>1</td>\n",
       "      <td>2020-12-31</td>\n",
       "      <td>21:00</td>\n",
       "      <td>2021-01-01 02:00:00</td>\n",
       "      <td>The Nuclear Option-2</td>\n",
       "    </tr>\n",
       "    <tr>\n",
       "      <th>3078</th>\n",
       "      <td>2005099</td>\n",
       "      <td>https://www.tvmaze.com/episodes/2005099/carl-w...</td>\n",
       "      <td>Mothers and Their Sons</td>\n",
       "      <td>2</td>\n",
       "      <td>1</td>\n",
       "      <td>2020-12-31</td>\n",
       "      <td>21:00</td>\n",
       "      <td>2021-01-01 02:00:00</td>\n",
       "      <td>Mothers and Their Sons-2</td>\n",
       "    </tr>\n",
       "    <tr>\n",
       "      <th>3079</th>\n",
       "      <td>2005100</td>\n",
       "      <td>https://www.tvmaze.com/episodes/2005100/carl-w...</td>\n",
       "      <td>I Don't Want to Lose My Queen</td>\n",
       "      <td>2</td>\n",
       "      <td>1</td>\n",
       "      <td>2020-12-31</td>\n",
       "      <td>21:00</td>\n",
       "      <td>2021-01-01 02:00:00</td>\n",
       "      <td>I Don't Want to Lose My Queen-2</td>\n",
       "    </tr>\n",
       "    <tr>\n",
       "      <th>3080</th>\n",
       "      <td>2005101</td>\n",
       "      <td>https://www.tvmaze.com/episodes/2005101/carl-w...</td>\n",
       "      <td>Deploy the Drones</td>\n",
       "      <td>2</td>\n",
       "      <td>1</td>\n",
       "      <td>2020-12-31</td>\n",
       "      <td>21:00</td>\n",
       "      <td>2021-01-01 02:00:00</td>\n",
       "      <td>Deploy the Drones-2</td>\n",
       "    </tr>\n",
       "    <tr>\n",
       "      <th>3081</th>\n",
       "      <td>2005102</td>\n",
       "      <td>https://www.tvmaze.com/episodes/2005102/carl-w...</td>\n",
       "      <td>The Hunt for Brother X</td>\n",
       "      <td>2</td>\n",
       "      <td>1</td>\n",
       "      <td>2020-12-31</td>\n",
       "      <td>21:00</td>\n",
       "      <td>2021-01-01 02:00:00</td>\n",
       "      <td>The Hunt for Brother X-2</td>\n",
       "    </tr>\n",
       "  </tbody>\n",
       "</table>\n",
       "<p>3082 rows × 9 columns</p>\n",
       "</div>"
      ],
      "text/plain": [
       "           id                                                url  \\\n",
       "0     1979824  https://www.tvmaze.com/episodes/1979824/sim-fo...   \n",
       "1     1979222  https://www.tvmaze.com/episodes/1979222/kotiki...   \n",
       "2     2008027  https://www.tvmaze.com/episodes/2008027/lab-s-...   \n",
       "3     1964565  https://www.tvmaze.com/episodes/1964565/core-s...   \n",
       "4     2052503  https://www.tvmaze.com/episodes/2052503/wu-she...   \n",
       "...       ...                                                ...   \n",
       "3077  2005098  https://www.tvmaze.com/episodes/2005098/carl-w...   \n",
       "3078  2005099  https://www.tvmaze.com/episodes/2005099/carl-w...   \n",
       "3079  2005100  https://www.tvmaze.com/episodes/2005100/carl-w...   \n",
       "3080  2005101  https://www.tvmaze.com/episodes/2005101/carl-w...   \n",
       "3081  2005102  https://www.tvmaze.com/episodes/2005102/carl-w...   \n",
       "\n",
       "                               name season  type    airdate airtime  \\\n",
       "0             Chanyeol's Episode 16      4     1 2020-12-01   06:00   \n",
       "1                           Серия 2      1     1 2020-12-01           \n",
       "2                            Лолита      2     1 2020-12-01           \n",
       "3                         Episode 9      1     1 2020-12-01   10:00   \n",
       "4                        Episode 80      1     1 2020-12-01   10:00   \n",
       "...                             ...    ...   ...        ...     ...   \n",
       "3077             The Nuclear Option      2     1 2020-12-31   21:00   \n",
       "3078         Mothers and Their Sons      2     1 2020-12-31   21:00   \n",
       "3079  I Don't Want to Lose My Queen      2     1 2020-12-31   21:00   \n",
       "3080              Deploy the Drones      2     1 2020-12-31   21:00   \n",
       "3081         The Hunt for Brother X      2     1 2020-12-31   21:00   \n",
       "\n",
       "                airstamp                      name_season  \n",
       "0    2020-11-30 21:00:00          Chanyeol's Episode 16-4  \n",
       "1    2020-12-01 00:00:00                        Серия 2-1  \n",
       "2    2020-12-01 00:00:00                         Лолита-2  \n",
       "3    2020-12-01 02:00:00                      Episode 9-1  \n",
       "4    2020-12-01 02:00:00                     Episode 80-1  \n",
       "...                  ...                              ...  \n",
       "3077 2021-01-01 02:00:00             The Nuclear Option-2  \n",
       "3078 2021-01-01 02:00:00         Mothers and Their Sons-2  \n",
       "3079 2021-01-01 02:00:00  I Don't Want to Lose My Queen-2  \n",
       "3080 2021-01-01 02:00:00              Deploy the Drones-2  \n",
       "3081 2021-01-01 02:00:00         The Hunt for Brother X-2  \n",
       "\n",
       "[3082 rows x 9 columns]"
      ]
     },
     "execution_count": 45,
     "metadata": {},
     "output_type": "execute_result"
    }
   ],
   "source": [
    "# validacion:\n",
    "df_air_basic"
   ]
  },
  {
   "cell_type": "code",
   "execution_count": 46,
   "metadata": {},
   "outputs": [
    {
     "data": {
      "text/plain": [
       "name_season \n",
       "Episode 1-1     54\n",
       "Episode 2-1     52\n",
       "Episode 3-1     51\n",
       "Episode 5-1     51\n",
       "Episode 4-1     50\n",
       "                ..\n",
       "Episode 80-1     1\n",
       "Episode 8-6      1\n",
       "Episode 79-4     1\n",
       "Episode 78-4     1\n",
       "희대의 탄생-1         1\n",
       "Length: 2211, dtype: int64"
      ]
     },
     "execution_count": 46,
     "metadata": {},
     "output_type": "execute_result"
    }
   ],
   "source": [
    "df_air_basic[['name_season']].value_counts()\n",
    "# Hay al menos 117 series que se repiten en el data set.\n",
    "# Para set de datos hay una serie con nombre Episode 1-1 que se repite 54 veces. \n",
    "# Pero este mensaje puede ser erroneo porque Episode 1-1 puede que pertenezca a 54 series diferentes.\n",
    "# Por ello se debe extraer la ultima parte de la url que tiene el nombre real de la serie+season+episode+time"
   ]
  },
  {
   "cell_type": "code",
   "execution_count": 47,
   "metadata": {},
   "outputs": [],
   "source": [
    "# Columna nueva donde se pondra el nombre completo de la serie extraido de la url:\n",
    "df_air_basic.insert(9,'name_complete','',True)"
   ]
  },
  {
   "cell_type": "code",
   "execution_count": 48,
   "metadata": {},
   "outputs": [],
   "source": [
    "# Extraccion de la informacion completa de la serie:\n",
    "for i in range(0,len(df_air_basic['url'])):\n",
    "        trail = df_air_basic['url'].loc[i].split(\"/\")[-1:]\n",
    "        df_air_basic['name_complete'].loc[i] = trail[0]\n"
   ]
  },
  {
   "cell_type": "code",
   "execution_count": 49,
   "metadata": {},
   "outputs": [
    {
     "data": {
      "text/plain": [
       "name_complete                                                                                             \n",
       "blippi-2020-12-24-learning-in-the-holidays-with-blippi-1-hour-of-blippi-educational-videos-for-kids           2\n",
       "blippi-2020-12-17-blippi-visits-the-horse-and-reindeer-farm-animals-for-kids                                  2\n",
       "blippi-2020-12-10-learning-how-to-snowboard-with-blippi-winter-holiday-videos-for-kids                        2\n",
       "0-z-majklom-surom-5x14-potap-vs-morgenshtern-poplavskij-i-maacna-zelenskij-i-korupcia-0-z-majklom-surom-14    1\n",
       "sj-returns-4x77-episode-77                                                                                    1\n",
       "                                                                                                             ..\n",
       "helluva-boss-1x02-loo-loo-land                                                                                1\n",
       "helt-perfekt-11x10-tidsvinduet                                                                                1\n",
       "here-we-go-s01-special-pandemonium-pilot                                                                      1\n",
       "hero-return-1x09-episode-9                                                                                    1\n",
       "zona-komforta-s01-special-zona-komforta-osuitelno-specialnyj-vypusk                                           1\n",
       "Length: 3079, dtype: int64"
      ]
     },
     "execution_count": 49,
     "metadata": {},
     "output_type": "execute_result"
    }
   ],
   "source": [
    "# Posible duplicados: \n",
    "df_air_basic[['name_complete']].value_counts()"
   ]
  },
  {
   "cell_type": "code",
   "execution_count": 50,
   "metadata": {},
   "outputs": [],
   "source": [
    "# Columna nueva donde se pondra el nombre verdadero de la serie:\n",
    "df_air_basic.insert(10,'serie_name_true','',True)"
   ]
  },
  {
   "cell_type": "code",
   "execution_count": 51,
   "metadata": {},
   "outputs": [],
   "source": [
    "# Extraccion de el nombre verdadero de cada serie:\n",
    "for i in range(0,len(df_air_basic['name_complete'])):\n",
    "        trail = df_air_basic['name_complete'].loc[i]\n",
    "        c ='x'\n",
    "        count = trail.count(c)\n",
    "        if count == 0 :\n",
    "             count_2 = trail.count('2020')  \n",
    "             if count_2 >= 1:\n",
    "                df_air_basic['serie_name_true'].loc[i] = trail[0:6:1] \n",
    "             else:      \n",
    "                df_air_basic['serie_name_true'].loc[i] = trail[0:18:1] \n",
    "        elif count == 1:\n",
    "             find_val = trail.find(c)\n",
    "             if find_val <= 1:\n",
    "                df_air_basic['serie_name_true'].loc[i] = trail[0:15:1] \n",
    "             else:\n",
    "                df_air_basic['serie_name_true'].loc[i] = trail[0:(find_val-1):1]\n",
    "        else:  \n",
    "             index_h = trail.rindex('x')\n",
    "             index_l = trail.index('x')\n",
    "             if index_l <=1:\n",
    "                  df_air_basic['serie_name_true'].loc[i] = trail[0:index_h:1] \n",
    "             elif index_h > 15:\n",
    "                df_air_basic['serie_name_true'].loc[i] = trail[0:index_l:1]\n",
    "             else:\n",
    "                df_air_basic['serie_name_true'].loc[i] = trail[0:index_h:1]  "
   ]
  },
  {
   "cell_type": "code",
   "execution_count": 52,
   "metadata": {},
   "outputs": [
    {
     "data": {
      "text/plain": [
       "the-yo                   38\n",
       "scisho                   34\n",
       "90-day-fiance-e          32\n",
       "the-penalty-zone-        30\n",
       "twisted-fate-of-love-    29\n",
       "                         ..\n",
       "all-the-queens-men-       2\n",
       "tv-2-hjelper-deg-5        2\n",
       "kuntergrau-               2\n",
       "panele                    2\n",
       "edgar-1                   1\n",
       "Name: serie_name_true, Length: 506, dtype: int64"
      ]
     },
     "execution_count": 52,
     "metadata": {},
     "output_type": "execute_result"
    }
   ],
   "source": [
    "# Cuantas veces se repite una misma serie:\n",
    "df_air_basic['serie_name_true'].value_counts().head(506)"
   ]
  },
  {
   "cell_type": "code",
   "execution_count": 53,
   "metadata": {},
   "outputs": [
    {
     "data": {
      "text/html": [
       "<div>\n",
       "<style scoped>\n",
       "    .dataframe tbody tr th:only-of-type {\n",
       "        vertical-align: middle;\n",
       "    }\n",
       "\n",
       "    .dataframe tbody tr th {\n",
       "        vertical-align: top;\n",
       "    }\n",
       "\n",
       "    .dataframe thead th {\n",
       "        text-align: right;\n",
       "    }\n",
       "</style>\n",
       "<table border=\"1\" class=\"dataframe\">\n",
       "  <thead>\n",
       "    <tr style=\"text-align: right;\">\n",
       "      <th></th>\n",
       "      <th>id</th>\n",
       "      <th>url</th>\n",
       "      <th>name</th>\n",
       "      <th>season</th>\n",
       "      <th>type</th>\n",
       "      <th>airdate</th>\n",
       "      <th>airtime</th>\n",
       "      <th>airstamp</th>\n",
       "      <th>name_season</th>\n",
       "      <th>name_complete</th>\n",
       "      <th>serie_name_true</th>\n",
       "    </tr>\n",
       "  </thead>\n",
       "  <tbody>\n",
       "    <tr>\n",
       "      <th>861</th>\n",
       "      <td>2014651</td>\n",
       "      <td>https://www.tvmaze.com/episodes/2014651/0-z-ma...</td>\n",
       "      <td>Референдум! Потрібен він комусь чи? ЩЕ з Максо...</td>\n",
       "      <td>5</td>\n",
       "      <td>0</td>\n",
       "      <td>2020-12-09</td>\n",
       "      <td>20:30</td>\n",
       "      <td>2020-12-09 18:30:00</td>\n",
       "      <td>Референдум! Потрібен він комусь чи? ЩЕ з Максо...</td>\n",
       "      <td>0-z-majklom-surom-s05-special-referendum-potri...</td>\n",
       "      <td>0-z-majklom-surom-</td>\n",
       "    </tr>\n",
       "    <tr>\n",
       "      <th>1997</th>\n",
       "      <td>1985088</td>\n",
       "      <td>https://www.tvmaze.com/episodes/1985088/0-z-ma...</td>\n",
       "      <td>Переможці Паляниця Awards-2020! /// Зеленський...</td>\n",
       "      <td>5</td>\n",
       "      <td>1</td>\n",
       "      <td>2020-12-20</td>\n",
       "      <td>14:00</td>\n",
       "      <td>2020-12-20 12:00:00</td>\n",
       "      <td>Переможці Паляниця Awards-2020! /// Зеленський...</td>\n",
       "      <td>0-z-majklom-surom-5x16-peremozci-palanica-awar...</td>\n",
       "      <td>0-z-majklom-surom-</td>\n",
       "    </tr>\n",
       "    <tr>\n",
       "      <th>1270</th>\n",
       "      <td>1967756</td>\n",
       "      <td>https://www.tvmaze.com/episodes/1967756/0-z-ma...</td>\n",
       "      <td>Cyberpunk 2077, справа Шеремета, Marvel, Палян...</td>\n",
       "      <td>5</td>\n",
       "      <td>1</td>\n",
       "      <td>2020-12-13</td>\n",
       "      <td>14:00</td>\n",
       "      <td>2020-12-13 12:00:00</td>\n",
       "      <td>Cyberpunk 2077, справа Шеремета, Marvel, Палян...</td>\n",
       "      <td>0-z-majklom-surom-5x15-cyberpunk-2077-sprava-s...</td>\n",
       "      <td>0-z-majklom-surom-</td>\n",
       "    </tr>\n",
       "    <tr>\n",
       "      <th>570</th>\n",
       "      <td>1967755</td>\n",
       "      <td>https://www.tvmaze.com/episodes/1967755/0-z-ma...</td>\n",
       "      <td>Потап VS Morgenshtern, Поплавський і маячня, З...</td>\n",
       "      <td>5</td>\n",
       "      <td>1</td>\n",
       "      <td>2020-12-06</td>\n",
       "      <td>14:00</td>\n",
       "      <td>2020-12-06 12:00:00</td>\n",
       "      <td>Потап VS Morgenshtern, Поплавський і маячня, З...</td>\n",
       "      <td>0-z-majklom-surom-5x14-potap-vs-morgenshtern-p...</td>\n",
       "      <td>0-z-majklom-surom-</td>\n",
       "    </tr>\n",
       "    <tr>\n",
       "      <th>2863</th>\n",
       "      <td>2007593</td>\n",
       "      <td>https://www.tvmaze.com/episodes/2007593/10-bin...</td>\n",
       "      <td>Yalan</td>\n",
       "      <td>1</td>\n",
       "      <td>1</td>\n",
       "      <td>2020-12-30</td>\n",
       "      <td></td>\n",
       "      <td>2020-12-30 09:00:00</td>\n",
       "      <td>Yalan-1</td>\n",
       "      <td>10-bin-adim-1x02-yalan</td>\n",
       "      <td>10-bin-adim-</td>\n",
       "    </tr>\n",
       "    <tr>\n",
       "      <th>...</th>\n",
       "      <td>...</td>\n",
       "      <td>...</td>\n",
       "      <td>...</td>\n",
       "      <td>...</td>\n",
       "      <td>...</td>\n",
       "      <td>...</td>\n",
       "      <td>...</td>\n",
       "      <td>...</td>\n",
       "      <td>...</td>\n",
       "      <td>...</td>\n",
       "      <td>...</td>\n",
       "    </tr>\n",
       "    <tr>\n",
       "      <th>1200</th>\n",
       "      <td>2212166</td>\n",
       "      <td>https://www.tvmaze.com/episodes/2212166/zombet...</td>\n",
       "      <td>7 серия</td>\n",
       "      <td>1</td>\n",
       "      <td>1</td>\n",
       "      <td>2020-12-12</td>\n",
       "      <td></td>\n",
       "      <td>2020-12-12 07:00:00</td>\n",
       "      <td>7 серия-1</td>\n",
       "      <td>zombety-1x07-7-seria</td>\n",
       "      <td>zombety-</td>\n",
       "    </tr>\n",
       "    <tr>\n",
       "      <th>1936</th>\n",
       "      <td>2212167</td>\n",
       "      <td>https://www.tvmaze.com/episodes/2212167/zombet...</td>\n",
       "      <td>8 серия</td>\n",
       "      <td>1</td>\n",
       "      <td>1</td>\n",
       "      <td>2020-12-19</td>\n",
       "      <td></td>\n",
       "      <td>2020-12-19 07:00:00</td>\n",
       "      <td>8 серия-1</td>\n",
       "      <td>zombety-1x08-8-seria</td>\n",
       "      <td>zombety-</td>\n",
       "    </tr>\n",
       "    <tr>\n",
       "      <th>486</th>\n",
       "      <td>1978323</td>\n",
       "      <td>https://www.tvmaze.com/episodes/1978323/zombie...</td>\n",
       "      <td>Disney Holiday Magic Quest</td>\n",
       "      <td>2020</td>\n",
       "      <td>0</td>\n",
       "      <td>2020-12-04</td>\n",
       "      <td>20:00</td>\n",
       "      <td>2020-12-05 01:00:00</td>\n",
       "      <td>Disney Holiday Magic Quest-2020</td>\n",
       "      <td>zombies-2020-special-disney-holiday-magic-quest</td>\n",
       "      <td>zombie</td>\n",
       "    </tr>\n",
       "    <tr>\n",
       "      <th>487</th>\n",
       "      <td>1965175</td>\n",
       "      <td>https://www.tvmaze.com/episodes/1965175/zombie...</td>\n",
       "      <td>Feelin' the Power</td>\n",
       "      <td>1</td>\n",
       "      <td>1</td>\n",
       "      <td>2020-12-04</td>\n",
       "      <td>21:15</td>\n",
       "      <td>2020-12-05 02:15:00</td>\n",
       "      <td>Feelin' the Power-1</td>\n",
       "      <td>zombies-addisons-monster-mystery-1x08-feelin-t...</td>\n",
       "      <td>zombies-addisons-monster-mystery-</td>\n",
       "    </tr>\n",
       "    <tr>\n",
       "      <th>2838</th>\n",
       "      <td>2001718</td>\n",
       "      <td>https://www.tvmaze.com/episodes/2001718/zona-k...</td>\n",
       "      <td>Зона Комфорта. Ошуительно Специальный Выпуск</td>\n",
       "      <td>1</td>\n",
       "      <td>0</td>\n",
       "      <td>2020-12-30</td>\n",
       "      <td></td>\n",
       "      <td>2020-12-30 00:00:00</td>\n",
       "      <td>Зона Комфорта. Ошуительно Специальный Выпуск-1</td>\n",
       "      <td>zona-komforta-s01-special-zona-komforta-osuite...</td>\n",
       "      <td>zona-komforta-s01-</td>\n",
       "    </tr>\n",
       "  </tbody>\n",
       "</table>\n",
       "<p>3082 rows × 11 columns</p>\n",
       "</div>"
      ],
      "text/plain": [
       "           id                                                url  \\\n",
       "861   2014651  https://www.tvmaze.com/episodes/2014651/0-z-ma...   \n",
       "1997  1985088  https://www.tvmaze.com/episodes/1985088/0-z-ma...   \n",
       "1270  1967756  https://www.tvmaze.com/episodes/1967756/0-z-ma...   \n",
       "570   1967755  https://www.tvmaze.com/episodes/1967755/0-z-ma...   \n",
       "2863  2007593  https://www.tvmaze.com/episodes/2007593/10-bin...   \n",
       "...       ...                                                ...   \n",
       "1200  2212166  https://www.tvmaze.com/episodes/2212166/zombet...   \n",
       "1936  2212167  https://www.tvmaze.com/episodes/2212167/zombet...   \n",
       "486   1978323  https://www.tvmaze.com/episodes/1978323/zombie...   \n",
       "487   1965175  https://www.tvmaze.com/episodes/1965175/zombie...   \n",
       "2838  2001718  https://www.tvmaze.com/episodes/2001718/zona-k...   \n",
       "\n",
       "                                                   name season  type  \\\n",
       "861   Референдум! Потрібен він комусь чи? ЩЕ з Максо...      5     0   \n",
       "1997  Переможці Паляниця Awards-2020! /// Зеленський...      5     1   \n",
       "1270  Cyberpunk 2077, справа Шеремета, Marvel, Палян...      5     1   \n",
       "570   Потап VS Morgenshtern, Поплавський і маячня, З...      5     1   \n",
       "2863                                              Yalan      1     1   \n",
       "...                                                 ...    ...   ...   \n",
       "1200                                            7 серия      1     1   \n",
       "1936                                            8 серия      1     1   \n",
       "486                          Disney Holiday Magic Quest   2020     0   \n",
       "487                                   Feelin' the Power      1     1   \n",
       "2838       Зона Комфорта. Ошуительно Специальный Выпуск      1     0   \n",
       "\n",
       "        airdate airtime            airstamp  \\\n",
       "861  2020-12-09   20:30 2020-12-09 18:30:00   \n",
       "1997 2020-12-20   14:00 2020-12-20 12:00:00   \n",
       "1270 2020-12-13   14:00 2020-12-13 12:00:00   \n",
       "570  2020-12-06   14:00 2020-12-06 12:00:00   \n",
       "2863 2020-12-30         2020-12-30 09:00:00   \n",
       "...         ...     ...                 ...   \n",
       "1200 2020-12-12         2020-12-12 07:00:00   \n",
       "1936 2020-12-19         2020-12-19 07:00:00   \n",
       "486  2020-12-04   20:00 2020-12-05 01:00:00   \n",
       "487  2020-12-04   21:15 2020-12-05 02:15:00   \n",
       "2838 2020-12-30         2020-12-30 00:00:00   \n",
       "\n",
       "                                            name_season  \\\n",
       "861   Референдум! Потрібен він комусь чи? ЩЕ з Максо...   \n",
       "1997  Переможці Паляниця Awards-2020! /// Зеленський...   \n",
       "1270  Cyberpunk 2077, справа Шеремета, Marvel, Палян...   \n",
       "570   Потап VS Morgenshtern, Поплавський і маячня, З...   \n",
       "2863                                            Yalan-1   \n",
       "...                                                 ...   \n",
       "1200                                          7 серия-1   \n",
       "1936                                          8 серия-1   \n",
       "486                     Disney Holiday Magic Quest-2020   \n",
       "487                                 Feelin' the Power-1   \n",
       "2838     Зона Комфорта. Ошуительно Специальный Выпуск-1   \n",
       "\n",
       "                                          name_complete  \\\n",
       "861   0-z-majklom-surom-s05-special-referendum-potri...   \n",
       "1997  0-z-majklom-surom-5x16-peremozci-palanica-awar...   \n",
       "1270  0-z-majklom-surom-5x15-cyberpunk-2077-sprava-s...   \n",
       "570   0-z-majklom-surom-5x14-potap-vs-morgenshtern-p...   \n",
       "2863                             10-bin-adim-1x02-yalan   \n",
       "...                                                 ...   \n",
       "1200                               zombety-1x07-7-seria   \n",
       "1936                               zombety-1x08-8-seria   \n",
       "486     zombies-2020-special-disney-holiday-magic-quest   \n",
       "487   zombies-addisons-monster-mystery-1x08-feelin-t...   \n",
       "2838  zona-komforta-s01-special-zona-komforta-osuite...   \n",
       "\n",
       "                        serie_name_true  \n",
       "861                  0-z-majklom-surom-  \n",
       "1997                 0-z-majklom-surom-  \n",
       "1270                 0-z-majklom-surom-  \n",
       "570                  0-z-majklom-surom-  \n",
       "2863                       10-bin-adim-  \n",
       "...                                 ...  \n",
       "1200                           zombety-  \n",
       "1936                           zombety-  \n",
       "486                              zombie  \n",
       "487   zombies-addisons-monster-mystery-  \n",
       "2838                 zona-komforta-s01-  \n",
       "\n",
       "[3082 rows x 11 columns]"
      ]
     },
     "execution_count": 53,
     "metadata": {},
     "output_type": "execute_result"
    }
   ],
   "source": [
    "# Organizando las filas con base en elnombre de la serie:\n",
    "df_air_basic.sort_values(by=\"serie_name_true\", ascending=True)"
   ]
  },
  {
   "cell_type": "code",
   "execution_count": 54,
   "metadata": {},
   "outputs": [],
   "source": [
    "# Columna nueva donde se pondra la categoria segun el nombre verdadero de la serie:\n",
    "df_air_basic.insert(11,'serie_name_true_cat','',True)\n",
    "# df_air_basic.drop('serie_name_true_cat', axis=1, inplace=True)"
   ]
  },
  {
   "cell_type": "code",
   "execution_count": 55,
   "metadata": {},
   "outputs": [],
   "source": [
    "# Alimentando la nueva columna serie_name_true_cat:\n",
    "for i in range(0,len(df_air_basic['serie_name_true'])):\n",
    "        df_air_basic['serie_name_true_cat'].loc[i] =df_air_basic['serie_name_true'].loc[i]"
   ]
  },
  {
   "cell_type": "code",
   "execution_count": 56,
   "metadata": {},
   "outputs": [],
   "source": [
    "# Cambiando la tipo de variable para la columna serie_name_true_cat:\n",
    "df_air_basic['serie_name_true_cat'] = df_air_basic['serie_name_true_cat'].astype('category')\n",
    "df_air_basic['serie_name_true_cat'] = df_air_basic['serie_name_true_cat'].cat.codes"
   ]
  },
  {
   "cell_type": "code",
   "execution_count": 57,
   "metadata": {},
   "outputs": [],
   "source": [
    "#Validacion\n",
    "#df_air_basic"
   ]
  },
  {
   "cell_type": "code",
   "execution_count": 58,
   "metadata": {},
   "outputs": [],
   "source": [
    "# Cambiando categorias para cerrar el DF modificado:\n",
    "df_air_basic['serie_name_true_cat'] = df_air_basic['serie_name_true_cat'].astype(int)\n",
    "df_air_basic['season'] = df_air_basic['season'].astype(int)"
   ]
  },
  {
   "cell_type": "code",
   "execution_count": 59,
   "metadata": {},
   "outputs": [
    {
     "name": "stdout",
     "output_type": "stream",
     "text": [
      "<class 'pandas.core.frame.DataFrame'>\n",
      "RangeIndex: 3082 entries, 0 to 3081\n",
      "Data columns (total 12 columns):\n",
      " #   Column               Non-Null Count  Dtype         \n",
      "---  ------               --------------  -----         \n",
      " 0   id                   3082 non-null   int64         \n",
      " 1   url                  3082 non-null   object        \n",
      " 2   name                 3082 non-null   object        \n",
      " 3   season               3082 non-null   int32         \n",
      " 4   type                 3082 non-null   int8          \n",
      " 5   airdate              3082 non-null   datetime64[ns]\n",
      " 6   airtime              3082 non-null   object        \n",
      " 7   airstamp             3082 non-null   datetime64[ns]\n",
      " 8   name_season          3082 non-null   object        \n",
      " 9   name_complete        3082 non-null   object        \n",
      " 10  serie_name_true      3082 non-null   object        \n",
      " 11  serie_name_true_cat  3082 non-null   int32         \n",
      "dtypes: datetime64[ns](2), int32(2), int64(1), int8(1), object(6)\n",
      "memory usage: 243.9+ KB\n"
     ]
    }
   ],
   "source": [
    "# Validacion:\n",
    "df_air_basic.info()"
   ]
  },
  {
   "cell_type": "code",
   "execution_count": 60,
   "metadata": {},
   "outputs": [],
   "source": [
    "# Extraccion a excel del DataFrame obtenido (df_air_org) para revision detallada:\n",
    "# df_air_org.to_excel(r'df_air_org.xlsx', index = False)\n",
    "# Hay algunas lineas que todavia se pueden pulir un poco mas pero son contados y puntuales los casos."
   ]
  },
  {
   "cell_type": "markdown",
   "metadata": {},
   "source": [
    "#### (3.1.3) Profiling antes de cleaning:"
   ]
  },
  {
   "cell_type": "code",
   "execution_count": 61,
   "metadata": {},
   "outputs": [
    {
     "data": {
      "application/vnd.jupyter.widget-view+json": {
       "model_id": "d49a68c31589486db5390f1353d7021a",
       "version_major": 2,
       "version_minor": 0
      },
      "text/plain": [
       "Summarize dataset:   0%|          | 0/5 [00:00<?, ?it/s]"
      ]
     },
     "metadata": {},
     "output_type": "display_data"
    },
    {
     "data": {
      "application/vnd.jupyter.widget-view+json": {
       "model_id": "1adcb96cf0d04150a8cac2c45af2081c",
       "version_major": 2,
       "version_minor": 0
      },
      "text/plain": [
       "Generate report structure:   0%|          | 0/1 [00:00<?, ?it/s]"
      ]
     },
     "metadata": {},
     "output_type": "display_data"
    },
    {
     "data": {
      "application/vnd.jupyter.widget-view+json": {
       "model_id": "02f9ae465c9d4df1b223877a57f27a97",
       "version_major": 2,
       "version_minor": 0
      },
      "text/plain": [
       "Render HTML:   0%|          | 0/1 [00:00<?, ?it/s]"
      ]
     },
     "metadata": {},
     "output_type": "display_data"
    },
    {
     "data": {
      "application/vnd.jupyter.widget-view+json": {
       "model_id": "07210f104a374d098a5a0b39d389f719",
       "version_major": 2,
       "version_minor": 0
      },
      "text/plain": [
       "Export report to file:   0%|          | 0/1 [00:00<?, ?it/s]"
      ]
     },
     "metadata": {},
     "output_type": "display_data"
    }
   ],
   "source": [
    "# Profiling\n",
    "#pfile_df_air_basic = pp.ProfileReport(df_air_basic)\n",
    "#pfile_df_air_basic.to_file(output_file=\"df_air_basic.html\")"
   ]
  },
  {
   "cell_type": "markdown",
   "metadata": {},
   "source": [
    "### (3.2) Genre-Status DF"
   ]
  },
  {
   "cell_type": "markdown",
   "metadata": {},
   "source": [
    "#### (3.2.0) Compilacion del DF:"
   ]
  },
  {
   "cell_type": "code",
   "execution_count": 62,
   "metadata": {},
   "outputs": [],
   "source": [
    "list_genre_status = []\n",
    "for i in list_dfs:\n",
    "    list_genre_status.append(i[['id','_embedded.show.genres','_embedded.show.status','_embedded.show.premiered',\n",
    "                       '_embedded.show.schedule.time','_embedded.show.schedule.days','_embedded.show.weight','_embedded.show.updated']])"
   ]
  },
  {
   "cell_type": "code",
   "execution_count": 63,
   "metadata": {},
   "outputs": [],
   "source": [
    "# Uniendo todos los data Frames en uno solo:\n",
    "df_genre_status = pd.concat(list_genre_status, ignore_index=True)"
   ]
  },
  {
   "cell_type": "code",
   "execution_count": 64,
   "metadata": {},
   "outputs": [],
   "source": [
    "# Adicion de las columnas que permitaran hacer Join entre diferentes DFs:\n",
    "df_genre_status.insert(8,'serie_name_true','',True) \n",
    "df_genre_status.insert(9,'serie_name_true_cat','', True)"
   ]
  },
  {
   "cell_type": "code",
   "execution_count": 65,
   "metadata": {},
   "outputs": [],
   "source": [
    "# Alimentando de valores las columnas creadas:\n",
    "for i in range(0,len(df_genre_status['_embedded.show.genres'])):\n",
    "    df_genre_status['serie_name_true'].loc[i] = df_air_basic['serie_name_true'].loc[i]\n",
    "    df_genre_status['serie_name_true_cat'].loc[i] = df_air_basic['serie_name_true_cat'].loc[i]"
   ]
  },
  {
   "cell_type": "markdown",
   "metadata": {},
   "source": [
    "#### (3.2.1) Revision basica del DF:"
   ]
  },
  {
   "cell_type": "code",
   "execution_count": 66,
   "metadata": {},
   "outputs": [
    {
     "name": "stdout",
     "output_type": "stream",
     "text": [
      "<class 'pandas.core.frame.DataFrame'>\n",
      "RangeIndex: 3082 entries, 0 to 3081\n",
      "Data columns (total 10 columns):\n",
      " #   Column                        Non-Null Count  Dtype \n",
      "---  ------                        --------------  ----- \n",
      " 0   id                            3082 non-null   int64 \n",
      " 1   _embedded.show.genres         3082 non-null   object\n",
      " 2   _embedded.show.status         3082 non-null   object\n",
      " 3   _embedded.show.premiered      3082 non-null   object\n",
      " 4   _embedded.show.schedule.time  3082 non-null   object\n",
      " 5   _embedded.show.schedule.days  3082 non-null   object\n",
      " 6   _embedded.show.weight         3082 non-null   int64 \n",
      " 7   _embedded.show.updated        3082 non-null   int64 \n",
      " 8   serie_name_true               3082 non-null   object\n",
      " 9   serie_name_true_cat           3082 non-null   object\n",
      "dtypes: int64(3), object(7)\n",
      "memory usage: 240.9+ KB\n"
     ]
    }
   ],
   "source": [
    "# info basica:\n",
    "df_genre_status.info()"
   ]
  },
  {
   "cell_type": "markdown",
   "metadata": {},
   "source": [
    "#### (3.2.2) Mejoras del DF:"
   ]
  },
  {
   "cell_type": "code",
   "execution_count": 67,
   "metadata": {},
   "outputs": [],
   "source": [
    "# Ajustamos el tipo de la variable 'serie_name_true_cat' y '_embedded.show.premiered':\n",
    "df_genre_status['serie_name_true_cat'] = df_genre_status['serie_name_true_cat'].astype(int)\n",
    "df_genre_status['_embedded.show.premiered'] = df_genre_status['_embedded.show.premiered'].astype('datetime64[ns]')\n"
   ]
  },
  {
   "cell_type": "code",
   "execution_count": 68,
   "metadata": {},
   "outputs": [],
   "source": [
    "# Cambiar a categoria las variables genre y status:\n",
    "# Generar las dos columnas nuevas donde se alimentaran los datos:\n",
    "df_genre_status.insert(10,'serie_genre','',True) \n",
    "df_genre_status.insert(11,'serie_status','',True)\n",
    "df_genre_status.insert(12,'genre_true','',True)"
   ]
  },
  {
   "cell_type": "code",
   "execution_count": 69,
   "metadata": {},
   "outputs": [],
   "source": [
    "# Alimentar las dos columnas nuevas con los datos modificados:\n",
    "trail = []\n",
    "for i in range(0, len(df_genre_status['_embedded.show.genres'])):\n",
    "     trail = df_genre_status['_embedded.show.genres'].loc[i]\n",
    "     if trail == []:\n",
    "        df_genre_status['serie_genre'].loc[i] = ''\n",
    "     else:\n",
    "        df_genre_status['serie_genre'].loc[i] = trail[0]\n",
    "     \n",
    "     df_genre_status['serie_status'].loc[i] = df_genre_status['_embedded.show.status'].loc[i]"
   ]
  },
  {
   "cell_type": "code",
   "execution_count": 70,
   "metadata": {},
   "outputs": [],
   "source": [
    "trail = []\n",
    "for i in range(0, len(df_genre_status['_embedded.show.genres'])):\n",
    "     trail = df_genre_status['_embedded.show.genres'].loc[i]\n",
    "     if trail == []:\n",
    "        df_genre_status['genre_true'].loc[i] = ''\n",
    "     else:\n",
    "        df_genre_status['genre_true'].loc[i] = trail[0]"
   ]
  },
  {
   "cell_type": "code",
   "execution_count": 71,
   "metadata": {},
   "outputs": [],
   "source": [
    "# Validacion:\n",
    "# df_genre_status"
   ]
  },
  {
   "cell_type": "code",
   "execution_count": 72,
   "metadata": {},
   "outputs": [],
   "source": [
    "df_genre_status['serie_genre'] = df_genre_status['serie_genre'].astype('category')\n",
    "df_genre_status['serie_genre'] = df_genre_status['serie_genre'].cat.codes\n",
    "\n",
    "df_genre_status['serie_status'] = df_genre_status['serie_status'].astype('category')\n",
    "df_genre_status['serie_status'] = df_genre_status['serie_status'].cat.codes"
   ]
  },
  {
   "cell_type": "code",
   "execution_count": 73,
   "metadata": {},
   "outputs": [
    {
     "name": "stdout",
     "output_type": "stream",
     "text": [
      "<class 'pandas.core.frame.DataFrame'>\n",
      "RangeIndex: 3082 entries, 0 to 3081\n",
      "Data columns (total 13 columns):\n",
      " #   Column                        Non-Null Count  Dtype         \n",
      "---  ------                        --------------  -----         \n",
      " 0   id                            3082 non-null   int64         \n",
      " 1   _embedded.show.genres         3082 non-null   object        \n",
      " 2   _embedded.show.status         3082 non-null   object        \n",
      " 3   _embedded.show.premiered      3082 non-null   datetime64[ns]\n",
      " 4   _embedded.show.schedule.time  3082 non-null   object        \n",
      " 5   _embedded.show.schedule.days  3082 non-null   object        \n",
      " 6   _embedded.show.weight         3082 non-null   int64         \n",
      " 7   _embedded.show.updated        3082 non-null   int64         \n",
      " 8   serie_name_true               3082 non-null   object        \n",
      " 9   serie_name_true_cat           3082 non-null   int32         \n",
      " 10  serie_genre                   3082 non-null   int8          \n",
      " 11  serie_status                  3082 non-null   int8          \n",
      " 12  genre_true                    3082 non-null   object        \n",
      "dtypes: datetime64[ns](1), int32(1), int64(3), int8(2), object(6)\n",
      "memory usage: 259.0+ KB\n"
     ]
    }
   ],
   "source": [
    "# Validacion:\n",
    "df_genre_status.info()"
   ]
  },
  {
   "cell_type": "markdown",
   "metadata": {},
   "source": [
    "#### (3.2.3) Profiling antes de cleaning:"
   ]
  },
  {
   "cell_type": "code",
   "execution_count": 74,
   "metadata": {},
   "outputs": [
    {
     "data": {
      "application/vnd.jupyter.widget-view+json": {
       "model_id": "2eadabfb94684dc0a6481d64848f0e5b",
       "version_major": 2,
       "version_minor": 0
      },
      "text/plain": [
       "Summarize dataset:   0%|          | 0/5 [00:00<?, ?it/s]"
      ]
     },
     "metadata": {},
     "output_type": "display_data"
    },
    {
     "data": {
      "application/vnd.jupyter.widget-view+json": {
       "model_id": "6fe0e6790ed7476b98a3664f0abea0af",
       "version_major": 2,
       "version_minor": 0
      },
      "text/plain": [
       "Generate report structure:   0%|          | 0/1 [00:00<?, ?it/s]"
      ]
     },
     "metadata": {},
     "output_type": "display_data"
    },
    {
     "data": {
      "application/vnd.jupyter.widget-view+json": {
       "model_id": "1c07d360039347f68733e0054d4f61d7",
       "version_major": 2,
       "version_minor": 0
      },
      "text/plain": [
       "Render HTML:   0%|          | 0/1 [00:00<?, ?it/s]"
      ]
     },
     "metadata": {},
     "output_type": "display_data"
    },
    {
     "data": {
      "application/vnd.jupyter.widget-view+json": {
       "model_id": "5e027e0be7b342bfb4e194016424ed12",
       "version_major": 2,
       "version_minor": 0
      },
      "text/plain": [
       "Export report to file:   0%|          | 0/1 [00:00<?, ?it/s]"
      ]
     },
     "metadata": {},
     "output_type": "display_data"
    }
   ],
   "source": [
    "# Profiling\n",
    "# pfile_df_genre_status = pp.ProfileReport(df_genre_status)\n",
    "# pfile_df_genre_status.to_file(output_file=\"df_genre_status.html\")"
   ]
  },
  {
   "cell_type": "markdown",
   "metadata": {},
   "source": [
    "### (3.3) Country DF"
   ]
  },
  {
   "cell_type": "markdown",
   "metadata": {},
   "source": [
    "#### (3.3.0) Compilacion del DF:"
   ]
  },
  {
   "cell_type": "code",
   "execution_count": 75,
   "metadata": {},
   "outputs": [],
   "source": [
    "list_country = []\n",
    "for i in list_dfs:\n",
    "    list_country.append(i[['id','_embedded.show.webChannel.name','_embedded.show.webChannel.country.name',\n",
    "                 '_embedded.show.webChannel.country.code','_embedded.show.webChannel.country.timezone']])"
   ]
  },
  {
   "cell_type": "code",
   "execution_count": 76,
   "metadata": {},
   "outputs": [],
   "source": [
    "# Uniendo todos los data Frames en uno solo:\n",
    "df_country = pd.concat(list_country, ignore_index=True)"
   ]
  },
  {
   "cell_type": "code",
   "execution_count": 77,
   "metadata": {},
   "outputs": [],
   "source": [
    "# Adicion de las columnas que permitaran hacer Join entre diferentes DFs:\n",
    "df_country.insert(5,'serie_name_true','',True) \n",
    "df_country.insert(6,'serie_name_true_cat','', True)"
   ]
  },
  {
   "cell_type": "code",
   "execution_count": 78,
   "metadata": {},
   "outputs": [],
   "source": [
    "# Alimentando los datos en las columnas agregadas:\n",
    "for i in range(0,len(df_country['_embedded.show.webChannel.name'])):\n",
    "    df_country['serie_name_true'].loc[i] = df_air_basic['serie_name_true'].loc[i]\n",
    "    df_country['serie_name_true_cat'].loc[i] = df_air_basic['serie_name_true_cat'].loc[i]"
   ]
  },
  {
   "cell_type": "markdown",
   "metadata": {},
   "source": [
    "#### (3.3.1) Revision basica del DF"
   ]
  },
  {
   "cell_type": "code",
   "execution_count": 79,
   "metadata": {},
   "outputs": [
    {
     "name": "stdout",
     "output_type": "stream",
     "text": [
      "<class 'pandas.core.frame.DataFrame'>\n",
      "RangeIndex: 3082 entries, 0 to 3081\n",
      "Data columns (total 7 columns):\n",
      " #   Column                                      Non-Null Count  Dtype \n",
      "---  ------                                      --------------  ----- \n",
      " 0   id                                          3082 non-null   int64 \n",
      " 1   _embedded.show.webChannel.name              2997 non-null   object\n",
      " 2   _embedded.show.webChannel.country.name      1509 non-null   object\n",
      " 3   _embedded.show.webChannel.country.code      1509 non-null   object\n",
      " 4   _embedded.show.webChannel.country.timezone  1509 non-null   object\n",
      " 5   serie_name_true                             3082 non-null   object\n",
      " 6   serie_name_true_cat                         3082 non-null   object\n",
      "dtypes: int64(1), object(6)\n",
      "memory usage: 168.7+ KB\n"
     ]
    }
   ],
   "source": [
    "# info basica:\n",
    "df_country.info()"
   ]
  },
  {
   "cell_type": "markdown",
   "metadata": {},
   "source": [
    "#### (3.3.2) Mejoras del DF:"
   ]
  },
  {
   "cell_type": "code",
   "execution_count": 80,
   "metadata": {},
   "outputs": [],
   "source": [
    "df_country['_embedded.show.webChannel.country.name'] = df_country['_embedded.show.webChannel.country.name'].astype(str)\n",
    "df_country['_embedded.show.webChannel.country.code'] = df_country['_embedded.show.webChannel.country.code'].astype(str)\n",
    "\n",
    "df_country['serie_name_true_cat'] = df_country['serie_name_true_cat'].astype(int)"
   ]
  },
  {
   "cell_type": "markdown",
   "metadata": {},
   "source": [
    "#### (3.3.3) Profiling antes de cleaning:"
   ]
  },
  {
   "cell_type": "code",
   "execution_count": 81,
   "metadata": {},
   "outputs": [],
   "source": [
    "# Profiling:\n",
    "# pfile_df_country = pp.ProfileReport(df_country)\n",
    "# pfile_df_country.to_file(output_file=\"df_country.html\")"
   ]
  },
  {
   "cell_type": "markdown",
   "metadata": {},
   "source": [
    "### (3.4) Runtime DF"
   ]
  },
  {
   "cell_type": "markdown",
   "metadata": {},
   "source": [
    "#### (3.4.0) Compilacion del DF:"
   ]
  },
  {
   "cell_type": "code",
   "execution_count": 82,
   "metadata": {},
   "outputs": [],
   "source": [
    "list_runtime = []\n",
    "for i in list_dfs:\n",
    "    list_runtime.append(i[['id','runtime','_embedded.show.averageRuntime']])"
   ]
  },
  {
   "cell_type": "code",
   "execution_count": 83,
   "metadata": {},
   "outputs": [],
   "source": [
    "# Uniendo todos los data Frames en uno solo:\n",
    "df_runtime = pd.concat(list_runtime, ignore_index=True)"
   ]
  },
  {
   "cell_type": "code",
   "execution_count": 84,
   "metadata": {},
   "outputs": [],
   "source": [
    "df_runtime.insert(3,'serie_name_true','',True) \n",
    "df_runtime.insert(4,'serie_name_true_cat','', True)"
   ]
  },
  {
   "cell_type": "code",
   "execution_count": 85,
   "metadata": {},
   "outputs": [],
   "source": [
    "for i in range(0,len(df_runtime['runtime'])):\n",
    "    df_runtime['serie_name_true'].loc[i] = df_air_basic['serie_name_true'].loc[i]\n",
    "    df_runtime['serie_name_true_cat'].loc[i] = df_air_basic['serie_name_true_cat'].loc[i]"
   ]
  },
  {
   "cell_type": "markdown",
   "metadata": {},
   "source": [
    "#### (3.4.1) Revision basica del DF:"
   ]
  },
  {
   "cell_type": "code",
   "execution_count": 86,
   "metadata": {},
   "outputs": [
    {
     "name": "stdout",
     "output_type": "stream",
     "text": [
      "<class 'pandas.core.frame.DataFrame'>\n",
      "RangeIndex: 3082 entries, 0 to 3081\n",
      "Data columns (total 5 columns):\n",
      " #   Column                         Non-Null Count  Dtype  \n",
      "---  ------                         --------------  -----  \n",
      " 0   id                             3082 non-null   int64  \n",
      " 1   runtime                        2854 non-null   float64\n",
      " 2   _embedded.show.averageRuntime  2913 non-null   float64\n",
      " 3   serie_name_true                3082 non-null   object \n",
      " 4   serie_name_true_cat            3082 non-null   object \n",
      "dtypes: float64(2), int64(1), object(2)\n",
      "memory usage: 120.5+ KB\n"
     ]
    }
   ],
   "source": [
    "# info basica:\n",
    "df_runtime.info()"
   ]
  },
  {
   "cell_type": "markdown",
   "metadata": {},
   "source": [
    "#### (3.4.2) Mejoras del DF:"
   ]
  },
  {
   "cell_type": "code",
   "execution_count": 87,
   "metadata": {},
   "outputs": [],
   "source": [
    "df_runtime['serie_name_true_cat'] = df_runtime['serie_name_true_cat'].astype(int)"
   ]
  },
  {
   "cell_type": "markdown",
   "metadata": {},
   "source": [
    "#### (3.4.3) Profiling antes de cleaning:"
   ]
  },
  {
   "cell_type": "code",
   "execution_count": 88,
   "metadata": {},
   "outputs": [],
   "source": [
    "# pp.ProfileReport(df_runtime)\n",
    "# pfile_df_runtime = pp.ProfileReport(df_runtime)\n",
    "# pfile_df_runtime.to_file(output_file=\"df_runtime.html\")"
   ]
  },
  {
   "cell_type": "markdown",
   "metadata": {},
   "source": [
    "### (3.5) Ratings DF"
   ]
  },
  {
   "cell_type": "markdown",
   "metadata": {},
   "source": [
    "#### (3.5.0) Compilacion del DF:"
   ]
  },
  {
   "cell_type": "code",
   "execution_count": 89,
   "metadata": {},
   "outputs": [],
   "source": [
    "list_ratings = []\n",
    "for i in list_dfs:\n",
    "    list_ratings.append(i[['id','rating.average','_embedded.show.rating.average','_embedded.show.externals.imdb',\n",
    "                 '_embedded.show.externals.tvrage','_embedded.show.externals.thetvdb']])"
   ]
  },
  {
   "cell_type": "code",
   "execution_count": 90,
   "metadata": {},
   "outputs": [],
   "source": [
    "# Uniendo todos los data Frames en uno solo:\n",
    "df_ratings = pd.concat(list_ratings, ignore_index=True)"
   ]
  },
  {
   "cell_type": "code",
   "execution_count": 91,
   "metadata": {},
   "outputs": [],
   "source": [
    "df_ratings.insert(6,'serie_name_true','',True) \n",
    "df_ratings.insert(7,'serie_name_true_cat','', True)"
   ]
  },
  {
   "cell_type": "code",
   "execution_count": 92,
   "metadata": {},
   "outputs": [],
   "source": [
    "for i in range(0,len(df_ratings['rating.average'])):\n",
    "    df_ratings['serie_name_true'].loc[i] = df_air_basic['serie_name_true'].loc[i]\n",
    "    df_ratings['serie_name_true_cat'].loc[i] = df_air_basic['serie_name_true_cat'].loc[i]"
   ]
  },
  {
   "cell_type": "markdown",
   "metadata": {},
   "source": [
    "#### (3.5.1) Revision basica del DF:"
   ]
  },
  {
   "cell_type": "code",
   "execution_count": 93,
   "metadata": {},
   "outputs": [
    {
     "name": "stdout",
     "output_type": "stream",
     "text": [
      "<class 'pandas.core.frame.DataFrame'>\n",
      "RangeIndex: 3082 entries, 0 to 3081\n",
      "Data columns (total 8 columns):\n",
      " #   Column                            Non-Null Count  Dtype  \n",
      "---  ------                            --------------  -----  \n",
      " 0   id                                3082 non-null   int64  \n",
      " 1   rating.average                    296 non-null    float64\n",
      " 2   _embedded.show.rating.average     421 non-null    float64\n",
      " 3   _embedded.show.externals.imdb     1611 non-null   object \n",
      " 4   _embedded.show.externals.tvrage   57 non-null     float64\n",
      " 5   _embedded.show.externals.thetvdb  2166 non-null   float64\n",
      " 6   serie_name_true                   3082 non-null   object \n",
      " 7   serie_name_true_cat               3082 non-null   object \n",
      "dtypes: float64(4), int64(1), object(3)\n",
      "memory usage: 192.8+ KB\n"
     ]
    }
   ],
   "source": [
    "# info basica:\n",
    "df_ratings.info()"
   ]
  },
  {
   "cell_type": "code",
   "execution_count": 94,
   "metadata": {},
   "outputs": [
    {
     "data": {
      "text/html": [
       "<div>\n",
       "<style scoped>\n",
       "    .dataframe tbody tr th:only-of-type {\n",
       "        vertical-align: middle;\n",
       "    }\n",
       "\n",
       "    .dataframe tbody tr th {\n",
       "        vertical-align: top;\n",
       "    }\n",
       "\n",
       "    .dataframe thead th {\n",
       "        text-align: right;\n",
       "    }\n",
       "</style>\n",
       "<table border=\"1\" class=\"dataframe\">\n",
       "  <thead>\n",
       "    <tr style=\"text-align: right;\">\n",
       "      <th></th>\n",
       "      <th>id</th>\n",
       "      <th>rating.average</th>\n",
       "      <th>_embedded.show.rating.average</th>\n",
       "      <th>_embedded.show.externals.imdb</th>\n",
       "      <th>_embedded.show.externals.tvrage</th>\n",
       "      <th>_embedded.show.externals.thetvdb</th>\n",
       "      <th>serie_name_true</th>\n",
       "      <th>serie_name_true_cat</th>\n",
       "    </tr>\n",
       "  </thead>\n",
       "  <tbody>\n",
       "    <tr>\n",
       "      <th>0</th>\n",
       "      <td>1979824</td>\n",
       "      <td>NaN</td>\n",
       "      <td>NaN</td>\n",
       "      <td>None</td>\n",
       "      <td>NaN</td>\n",
       "      <td>361541.0</td>\n",
       "      <td>sim-for-you-</td>\n",
       "      <td>493</td>\n",
       "    </tr>\n",
       "    <tr>\n",
       "      <th>1</th>\n",
       "      <td>1979222</td>\n",
       "      <td>NaN</td>\n",
       "      <td>NaN</td>\n",
       "      <td>None</td>\n",
       "      <td>NaN</td>\n",
       "      <td>392682.0</td>\n",
       "      <td>kotiki-</td>\n",
       "      <td>305</td>\n",
       "    </tr>\n",
       "    <tr>\n",
       "      <th>2</th>\n",
       "      <td>2008027</td>\n",
       "      <td>NaN</td>\n",
       "      <td>NaN</td>\n",
       "      <td>None</td>\n",
       "      <td>NaN</td>\n",
       "      <td>NaN</td>\n",
       "      <td>lab-s-antonom-belaevym-</td>\n",
       "      <td>312</td>\n",
       "    </tr>\n",
       "    <tr>\n",
       "      <th>3</th>\n",
       "      <td>1964565</td>\n",
       "      <td>NaN</td>\n",
       "      <td>NaN</td>\n",
       "      <td>None</td>\n",
       "      <td>NaN</td>\n",
       "      <td>NaN</td>\n",
       "      <td>core-sense-</td>\n",
       "      <td>119</td>\n",
       "    </tr>\n",
       "    <tr>\n",
       "      <th>4</th>\n",
       "      <td>2052503</td>\n",
       "      <td>NaN</td>\n",
       "      <td>NaN</td>\n",
       "      <td>None</td>\n",
       "      <td>NaN</td>\n",
       "      <td>379070.0</td>\n",
       "      <td>wu-shen-zhu-zai-</td>\n",
       "      <td>664</td>\n",
       "    </tr>\n",
       "    <tr>\n",
       "      <th>...</th>\n",
       "      <td>...</td>\n",
       "      <td>...</td>\n",
       "      <td>...</td>\n",
       "      <td>...</td>\n",
       "      <td>...</td>\n",
       "      <td>...</td>\n",
       "      <td>...</td>\n",
       "      <td>...</td>\n",
       "    </tr>\n",
       "    <tr>\n",
       "      <th>3077</th>\n",
       "      <td>2005098</td>\n",
       "      <td>NaN</td>\n",
       "      <td>5.0</td>\n",
       "      <td>tt7146326</td>\n",
       "      <td>NaN</td>\n",
       "      <td>NaN</td>\n",
       "      <td>carl-webers-the-family-business-</td>\n",
       "      <td>95</td>\n",
       "    </tr>\n",
       "    <tr>\n",
       "      <th>3078</th>\n",
       "      <td>2005099</td>\n",
       "      <td>NaN</td>\n",
       "      <td>5.0</td>\n",
       "      <td>tt7146326</td>\n",
       "      <td>NaN</td>\n",
       "      <td>NaN</td>\n",
       "      <td>carl-webers-the-family-business-</td>\n",
       "      <td>95</td>\n",
       "    </tr>\n",
       "    <tr>\n",
       "      <th>3079</th>\n",
       "      <td>2005100</td>\n",
       "      <td>NaN</td>\n",
       "      <td>5.0</td>\n",
       "      <td>tt7146326</td>\n",
       "      <td>NaN</td>\n",
       "      <td>NaN</td>\n",
       "      <td>carl-webers-the-family-business-</td>\n",
       "      <td>95</td>\n",
       "    </tr>\n",
       "    <tr>\n",
       "      <th>3080</th>\n",
       "      <td>2005101</td>\n",
       "      <td>NaN</td>\n",
       "      <td>5.0</td>\n",
       "      <td>tt7146326</td>\n",
       "      <td>NaN</td>\n",
       "      <td>NaN</td>\n",
       "      <td>carl-webers-the-family-business-</td>\n",
       "      <td>95</td>\n",
       "    </tr>\n",
       "    <tr>\n",
       "      <th>3081</th>\n",
       "      <td>2005102</td>\n",
       "      <td>NaN</td>\n",
       "      <td>5.0</td>\n",
       "      <td>tt7146326</td>\n",
       "      <td>NaN</td>\n",
       "      <td>NaN</td>\n",
       "      <td>carl-webers-the-family-business-2</td>\n",
       "      <td>96</td>\n",
       "    </tr>\n",
       "  </tbody>\n",
       "</table>\n",
       "<p>3082 rows × 8 columns</p>\n",
       "</div>"
      ],
      "text/plain": [
       "           id  rating.average  _embedded.show.rating.average  \\\n",
       "0     1979824             NaN                            NaN   \n",
       "1     1979222             NaN                            NaN   \n",
       "2     2008027             NaN                            NaN   \n",
       "3     1964565             NaN                            NaN   \n",
       "4     2052503             NaN                            NaN   \n",
       "...       ...             ...                            ...   \n",
       "3077  2005098             NaN                            5.0   \n",
       "3078  2005099             NaN                            5.0   \n",
       "3079  2005100             NaN                            5.0   \n",
       "3080  2005101             NaN                            5.0   \n",
       "3081  2005102             NaN                            5.0   \n",
       "\n",
       "     _embedded.show.externals.imdb  _embedded.show.externals.tvrage  \\\n",
       "0                             None                              NaN   \n",
       "1                             None                              NaN   \n",
       "2                             None                              NaN   \n",
       "3                             None                              NaN   \n",
       "4                             None                              NaN   \n",
       "...                            ...                              ...   \n",
       "3077                     tt7146326                              NaN   \n",
       "3078                     tt7146326                              NaN   \n",
       "3079                     tt7146326                              NaN   \n",
       "3080                     tt7146326                              NaN   \n",
       "3081                     tt7146326                              NaN   \n",
       "\n",
       "      _embedded.show.externals.thetvdb                    serie_name_true  \\\n",
       "0                             361541.0                       sim-for-you-   \n",
       "1                             392682.0                            kotiki-   \n",
       "2                                  NaN            lab-s-antonom-belaevym-   \n",
       "3                                  NaN                        core-sense-   \n",
       "4                             379070.0                   wu-shen-zhu-zai-   \n",
       "...                                ...                                ...   \n",
       "3077                               NaN   carl-webers-the-family-business-   \n",
       "3078                               NaN   carl-webers-the-family-business-   \n",
       "3079                               NaN   carl-webers-the-family-business-   \n",
       "3080                               NaN   carl-webers-the-family-business-   \n",
       "3081                               NaN  carl-webers-the-family-business-2   \n",
       "\n",
       "     serie_name_true_cat  \n",
       "0                    493  \n",
       "1                    305  \n",
       "2                    312  \n",
       "3                    119  \n",
       "4                    664  \n",
       "...                  ...  \n",
       "3077                  95  \n",
       "3078                  95  \n",
       "3079                  95  \n",
       "3080                  95  \n",
       "3081                  96  \n",
       "\n",
       "[3082 rows x 8 columns]"
      ]
     },
     "execution_count": 94,
     "metadata": {},
     "output_type": "execute_result"
    }
   ],
   "source": [
    "df_ratings"
   ]
  },
  {
   "cell_type": "markdown",
   "metadata": {},
   "source": [
    "#### (3.5.2) Mejoras del DF:"
   ]
  },
  {
   "cell_type": "code",
   "execution_count": 95,
   "metadata": {},
   "outputs": [],
   "source": [
    "df_ratings['serie_name_true_cat'] = df_ratings['serie_name_true_cat'].astype(int)"
   ]
  },
  {
   "cell_type": "markdown",
   "metadata": {},
   "source": [
    "#### (3.5.3) Profiling antes de cleaning:"
   ]
  },
  {
   "cell_type": "code",
   "execution_count": 96,
   "metadata": {},
   "outputs": [
    {
     "data": {
      "application/vnd.jupyter.widget-view+json": {
       "model_id": "2f3707d03aa64599af8e1781bfc09213",
       "version_major": 2,
       "version_minor": 0
      },
      "text/plain": [
       "Summarize dataset:   0%|          | 0/5 [00:00<?, ?it/s]"
      ]
     },
     "metadata": {},
     "output_type": "display_data"
    },
    {
     "data": {
      "application/vnd.jupyter.widget-view+json": {
       "model_id": "980a89d9f016421c8760b2d9d3384a5e",
       "version_major": 2,
       "version_minor": 0
      },
      "text/plain": [
       "Generate report structure:   0%|          | 0/1 [00:00<?, ?it/s]"
      ]
     },
     "metadata": {},
     "output_type": "display_data"
    },
    {
     "data": {
      "application/vnd.jupyter.widget-view+json": {
       "model_id": "9fec3a6d0a0540de897c8b62d8d14482",
       "version_major": 2,
       "version_minor": 0
      },
      "text/plain": [
       "Render HTML:   0%|          | 0/1 [00:00<?, ?it/s]"
      ]
     },
     "metadata": {},
     "output_type": "display_data"
    },
    {
     "data": {
      "application/vnd.jupyter.widget-view+json": {
       "model_id": "5446f042667b42f1b25a4bc793685a88",
       "version_major": 2,
       "version_minor": 0
      },
      "text/plain": [
       "Export report to file:   0%|          | 0/1 [00:00<?, ?it/s]"
      ]
     },
     "metadata": {},
     "output_type": "display_data"
    }
   ],
   "source": [
    "# pfile_df_ratings = pp.ProfileReport(df_ratings)\n",
    "# pfile_df_ratings.to_file(output_file=\"df_ratings.html\")"
   ]
  },
  {
   "cell_type": "markdown",
   "metadata": {},
   "source": [
    "## (4) DFs Cleaning y Profiling"
   ]
  },
  {
   "cell_type": "code",
   "execution_count": 97,
   "metadata": {},
   "outputs": [],
   "source": [
    "# Renombrar las columnas:\n",
    "df_air_basic.rename(columns = {'id':'id_unico', 'name':'Episodio', 'season':'Temporada','type':'Tipo',\n",
    "                               'airdate':'Fecha_alaire','serie_name_true':'Serie','serie_name_true_cat':'id_Serie' }, inplace = True)"
   ]
  },
  {
   "cell_type": "code",
   "execution_count": 98,
   "metadata": {},
   "outputs": [],
   "source": [
    "df_genre_status.rename(columns = {'id':'id_unico', '_embedded.show.status':'Estado',\n",
    "                               '_embedded.show.premiered':'Premier','serie_name_true':'Serie','serie_name_true_cat':'id_Serie',\n",
    "                               'serie_genre':'id_Genero','serie_status':'id_Estado','genre_true':'Genero' }, inplace = True)"
   ]
  },
  {
   "cell_type": "code",
   "execution_count": 99,
   "metadata": {},
   "outputs": [],
   "source": [
    "df_country.rename(columns = {'id':'id_unico', '_embedded.show.webChannel.country.name':'Pais', '_embedded.show.webChannel.country.code':'Sigla_Pais',\n",
    "                               'serie_name_true':'Serie','serie_name_true_cat':'id_Serie'}, inplace = True)"
   ]
  },
  {
   "cell_type": "code",
   "execution_count": 100,
   "metadata": {},
   "outputs": [],
   "source": [
    "df_runtime.rename(columns = {'id':'id_unico','serie_name_true':'Serie','serie_name_true_cat':'id_Serie','_embedded.show.averageRuntime':'Avg_runtime'}, inplace = True)"
   ]
  },
  {
   "cell_type": "code",
   "execution_count": 101,
   "metadata": {},
   "outputs": [],
   "source": [
    "df_ratings.rename(columns = {'id':'id_unico','serie_name_true':'Serie','serie_name_true_cat':'id_Serie',\n",
    "                             'rating.average':'Avg_rating','_embedded.show.rating.average':'E_Avg_rating'}, inplace = True)"
   ]
  },
  {
   "cell_type": "code",
   "execution_count": 102,
   "metadata": {},
   "outputs": [
    {
     "name": "stdout",
     "output_type": "stream",
     "text": [
      "<class 'pandas.core.frame.DataFrame'>\n",
      "RangeIndex: 3082 entries, 0 to 3081\n",
      "Data columns (total 13 columns):\n",
      " #   Column                        Non-Null Count  Dtype         \n",
      "---  ------                        --------------  -----         \n",
      " 0   id_unico                      3082 non-null   int64         \n",
      " 1   _embedded.show.genres         3082 non-null   object        \n",
      " 2   Estado                        3082 non-null   object        \n",
      " 3   Premier                       3082 non-null   datetime64[ns]\n",
      " 4   _embedded.show.schedule.time  3082 non-null   object        \n",
      " 5   _embedded.show.schedule.days  3082 non-null   object        \n",
      " 6   _embedded.show.weight         3082 non-null   int64         \n",
      " 7   _embedded.show.updated        3082 non-null   int64         \n",
      " 8   Serie                         3082 non-null   object        \n",
      " 9   id_Serie                      3082 non-null   int32         \n",
      " 10  id_Genero                     3082 non-null   int8          \n",
      " 11  id_Estado                     3082 non-null   int8          \n",
      " 12  Genero                        3082 non-null   object        \n",
      "dtypes: datetime64[ns](1), int32(1), int64(3), int8(2), object(6)\n",
      "memory usage: 259.0+ KB\n"
     ]
    }
   ],
   "source": [
    "df_genre_status.info()"
   ]
  },
  {
   "cell_type": "code",
   "execution_count": 103,
   "metadata": {},
   "outputs": [],
   "source": [
    "# Renombrar dfs que se guardaran en la base de datos:\n",
    "df_id_unico_db = df_air_basic.iloc[:,[0,11,10,9]]\n",
    "df_air_basic_db = df_air_basic.iloc[:,[5,11,10,9,3,2,4,1]]\n",
    "df_genre_status_db = df_genre_status.iloc[:,[0,9,8,10,12,11,2,3]]\n",
    "df_country_db = df_country.iloc[:,[0,6,5,2,3]]\n",
    "df_runtime_db = df_runtime.iloc[:,[0,4,3,1,2]]\n",
    "df_ratings_db = df_ratings.iloc[:,[0,7,6,1,2]]"
   ]
  },
  {
   "cell_type": "code",
   "execution_count": 104,
   "metadata": {},
   "outputs": [
    {
     "name": "stdout",
     "output_type": "stream",
     "text": [
      "<class 'pandas.core.frame.DataFrame'>\n",
      "Int64Index: 3082 entries, 0 to 3081\n",
      "Data columns (total 8 columns):\n",
      " #   Column         Non-Null Count  Dtype         \n",
      "---  ------         --------------  -----         \n",
      " 0   Fecha_alaire   3082 non-null   datetime64[ns]\n",
      " 1   id_Serie       3082 non-null   int32         \n",
      " 2   Serie          3082 non-null   object        \n",
      " 3   name_complete  3082 non-null   object        \n",
      " 4   Temporada      3082 non-null   int32         \n",
      " 5   Episodio       3082 non-null   object        \n",
      " 6   Tipo           3082 non-null   int8          \n",
      " 7   url            3082 non-null   object        \n",
      "dtypes: datetime64[ns](1), int32(2), int8(1), object(4)\n",
      "memory usage: 171.6+ KB\n"
     ]
    }
   ],
   "source": [
    "# Drop duplicates:\n",
    "df_air_basic_db = df_air_basic_db.drop_duplicates()\n",
    "df_air_basic_db.info()"
   ]
  },
  {
   "cell_type": "code",
   "execution_count": 105,
   "metadata": {},
   "outputs": [],
   "source": [
    "# Borrar datos nulos:\n",
    "df_id_unico_db_VF = df_id_unico_db.dropna() \n",
    "df_air_basic_db_VF = df_air_basic_db.dropna()\n",
    "df_genre_status_db_VF = df_genre_status_db.dropna()\n",
    "df_country_db_VF = df_country_db.dropna()\n",
    "df_runtime_db_VF = df_runtime_db.dropna()\n",
    "df_ratings_db_VF = df_ratings_db.dropna()"
   ]
  },
  {
   "cell_type": "markdown",
   "metadata": {},
   "source": [
    "### (4.1) Profiling despues de Cleaning:"
   ]
  },
  {
   "cell_type": "code",
   "execution_count": 106,
   "metadata": {},
   "outputs": [
    {
     "data": {
      "application/vnd.jupyter.widget-view+json": {
       "model_id": "cdb91ecfad3f4d619da5f36eaacf8116",
       "version_major": 2,
       "version_minor": 0
      },
      "text/plain": [
       "Summarize dataset:   0%|          | 0/5 [00:00<?, ?it/s]"
      ]
     },
     "metadata": {},
     "output_type": "display_data"
    },
    {
     "data": {
      "application/vnd.jupyter.widget-view+json": {
       "model_id": "fb905ee84bf2402da7c0389e0f65d46d",
       "version_major": 2,
       "version_minor": 0
      },
      "text/plain": [
       "Generate report structure:   0%|          | 0/1 [00:00<?, ?it/s]"
      ]
     },
     "metadata": {},
     "output_type": "display_data"
    },
    {
     "data": {
      "application/vnd.jupyter.widget-view+json": {
       "model_id": "3370f78556d642d7a5f4315d97602f5a",
       "version_major": 2,
       "version_minor": 0
      },
      "text/plain": [
       "Render HTML:   0%|          | 0/1 [00:00<?, ?it/s]"
      ]
     },
     "metadata": {},
     "output_type": "display_data"
    },
    {
     "data": {
      "application/vnd.jupyter.widget-view+json": {
       "model_id": "4dbab4e262904335b32747f069f63e5f",
       "version_major": 2,
       "version_minor": 0
      },
      "text/plain": [
       "Export report to file:   0%|          | 0/1 [00:00<?, ?it/s]"
      ]
     },
     "metadata": {},
     "output_type": "display_data"
    }
   ],
   "source": [
    "# Profiling:\n",
    "pfile_df_air_basic_db_VF = pp.ProfileReport(df_air_basic_db_VF)\n",
    "pfile_df_air_basic_db_VF.to_file(output_file=\"df_air_basic_db_VF.html\")"
   ]
  },
  {
   "cell_type": "code",
   "execution_count": 107,
   "metadata": {},
   "outputs": [
    {
     "data": {
      "application/vnd.jupyter.widget-view+json": {
       "model_id": "5d79a02882174f5e9edcc2606ceab6d5",
       "version_major": 2,
       "version_minor": 0
      },
      "text/plain": [
       "Summarize dataset:   0%|          | 0/5 [00:00<?, ?it/s]"
      ]
     },
     "metadata": {},
     "output_type": "display_data"
    },
    {
     "data": {
      "application/vnd.jupyter.widget-view+json": {
       "model_id": "1cf562631a784ca98c3206a81814fe47",
       "version_major": 2,
       "version_minor": 0
      },
      "text/plain": [
       "Generate report structure:   0%|          | 0/1 [00:00<?, ?it/s]"
      ]
     },
     "metadata": {},
     "output_type": "display_data"
    },
    {
     "data": {
      "application/vnd.jupyter.widget-view+json": {
       "model_id": "b69478fbf8ae4ecb88dc0bc4a55a8d7f",
       "version_major": 2,
       "version_minor": 0
      },
      "text/plain": [
       "Render HTML:   0%|          | 0/1 [00:00<?, ?it/s]"
      ]
     },
     "metadata": {},
     "output_type": "display_data"
    },
    {
     "data": {
      "application/vnd.jupyter.widget-view+json": {
       "model_id": "56403229b0094eea8fdeda59f4d4d1bd",
       "version_major": 2,
       "version_minor": 0
      },
      "text/plain": [
       "Export report to file:   0%|          | 0/1 [00:00<?, ?it/s]"
      ]
     },
     "metadata": {},
     "output_type": "display_data"
    }
   ],
   "source": [
    "pfile_df_genre_status_db_VF = pp.ProfileReport(df_genre_status_db_VF)\n",
    "pfile_df_genre_status_db_VF.to_file(output_file=\"df_genre_status_db_VF.html\")"
   ]
  },
  {
   "cell_type": "code",
   "execution_count": 108,
   "metadata": {},
   "outputs": [
    {
     "data": {
      "application/vnd.jupyter.widget-view+json": {
       "model_id": "f91d240b2b0545609165ea2f0412641c",
       "version_major": 2,
       "version_minor": 0
      },
      "text/plain": [
       "Summarize dataset:   0%|          | 0/5 [00:00<?, ?it/s]"
      ]
     },
     "metadata": {},
     "output_type": "display_data"
    },
    {
     "data": {
      "application/vnd.jupyter.widget-view+json": {
       "model_id": "279aa43e89974a67bc9ce438f0d68b5f",
       "version_major": 2,
       "version_minor": 0
      },
      "text/plain": [
       "Generate report structure:   0%|          | 0/1 [00:00<?, ?it/s]"
      ]
     },
     "metadata": {},
     "output_type": "display_data"
    },
    {
     "data": {
      "application/vnd.jupyter.widget-view+json": {
       "model_id": "5d63ccc0b503469ca366bb226829c38a",
       "version_major": 2,
       "version_minor": 0
      },
      "text/plain": [
       "Render HTML:   0%|          | 0/1 [00:00<?, ?it/s]"
      ]
     },
     "metadata": {},
     "output_type": "display_data"
    },
    {
     "data": {
      "application/vnd.jupyter.widget-view+json": {
       "model_id": "a5a6d43a1d06445d91a72ebf0c1d6687",
       "version_major": 2,
       "version_minor": 0
      },
      "text/plain": [
       "Export report to file:   0%|          | 0/1 [00:00<?, ?it/s]"
      ]
     },
     "metadata": {},
     "output_type": "display_data"
    }
   ],
   "source": [
    "pfile_df_country_db_VF = pp.ProfileReport(df_country_db_VF)\n",
    "pfile_df_country_db_VF.to_file(output_file=\"df_country_db_VF.html\")"
   ]
  },
  {
   "cell_type": "code",
   "execution_count": 109,
   "metadata": {},
   "outputs": [
    {
     "data": {
      "application/vnd.jupyter.widget-view+json": {
       "model_id": "ad880175210f470689dce728d5747937",
       "version_major": 2,
       "version_minor": 0
      },
      "text/plain": [
       "Summarize dataset:   0%|          | 0/5 [00:00<?, ?it/s]"
      ]
     },
     "metadata": {},
     "output_type": "display_data"
    },
    {
     "data": {
      "application/vnd.jupyter.widget-view+json": {
       "model_id": "c485a483b2b04ca6919b44fce87f4e5e",
       "version_major": 2,
       "version_minor": 0
      },
      "text/plain": [
       "Generate report structure:   0%|          | 0/1 [00:00<?, ?it/s]"
      ]
     },
     "metadata": {},
     "output_type": "display_data"
    },
    {
     "data": {
      "application/vnd.jupyter.widget-view+json": {
       "model_id": "e5392082068747fca88fea84143aadc5",
       "version_major": 2,
       "version_minor": 0
      },
      "text/plain": [
       "Render HTML:   0%|          | 0/1 [00:00<?, ?it/s]"
      ]
     },
     "metadata": {},
     "output_type": "display_data"
    },
    {
     "data": {
      "application/vnd.jupyter.widget-view+json": {
       "model_id": "d60f65a74b8c4f28837dd44a05610250",
       "version_major": 2,
       "version_minor": 0
      },
      "text/plain": [
       "Export report to file:   0%|          | 0/1 [00:00<?, ?it/s]"
      ]
     },
     "metadata": {},
     "output_type": "display_data"
    }
   ],
   "source": [
    "pfile_df_runtime_db_VF = pp.ProfileReport(df_runtime_db_VF)\n",
    "pfile_df_runtime_db_VF.to_file(output_file=\"df_runtime_db_VF.html\")"
   ]
  },
  {
   "cell_type": "code",
   "execution_count": 110,
   "metadata": {},
   "outputs": [
    {
     "data": {
      "application/vnd.jupyter.widget-view+json": {
       "model_id": "25bd2d93a52c4dd09da1eb0ee93e694d",
       "version_major": 2,
       "version_minor": 0
      },
      "text/plain": [
       "Summarize dataset:   0%|          | 0/5 [00:00<?, ?it/s]"
      ]
     },
     "metadata": {},
     "output_type": "display_data"
    },
    {
     "data": {
      "application/vnd.jupyter.widget-view+json": {
       "model_id": "1dab17c51d714ab09bc8721c085b20ec",
       "version_major": 2,
       "version_minor": 0
      },
      "text/plain": [
       "Generate report structure:   0%|          | 0/1 [00:00<?, ?it/s]"
      ]
     },
     "metadata": {},
     "output_type": "display_data"
    },
    {
     "data": {
      "application/vnd.jupyter.widget-view+json": {
       "model_id": "e43ce5cd962b4d86964355b40bc0f7f5",
       "version_major": 2,
       "version_minor": 0
      },
      "text/plain": [
       "Render HTML:   0%|          | 0/1 [00:00<?, ?it/s]"
      ]
     },
     "metadata": {},
     "output_type": "display_data"
    },
    {
     "data": {
      "application/vnd.jupyter.widget-view+json": {
       "model_id": "59f8f174002b4484bc317f762e684cbf",
       "version_major": 2,
       "version_minor": 0
      },
      "text/plain": [
       "Export report to file:   0%|          | 0/1 [00:00<?, ?it/s]"
      ]
     },
     "metadata": {},
     "output_type": "display_data"
    }
   ],
   "source": [
    "pfile_df_ratings_db_VF = pp.ProfileReport(df_ratings_db_VF)\n",
    "pfile_df_ratings_db_VF.to_file(output_file=\"df_ratings_db_VF.html\")"
   ]
  },
  {
   "cell_type": "markdown",
   "metadata": {},
   "source": [
    "## (5) DFs a SQLite"
   ]
  },
  {
   "cell_type": "code",
   "execution_count": 111,
   "metadata": {},
   "outputs": [],
   "source": [
    "# Creacion de la base de datos:\n",
    "db = \"tvseries_2020-12.sqlite\"\n",
    "conn = sqlite3.connect(db)\n",
    "cursor = conn.cursor()"
   ]
  },
  {
   "cell_type": "code",
   "execution_count": 112,
   "metadata": {},
   "outputs": [],
   "source": [
    "# Guardando DFs in sqlite database:\n",
    "# df_id_unico_db_VF.to_sql(name='id_unico', con=conn)\n",
    "# df_air_basic_db_VF.to_sql(name='air_basic', con=conn)\n",
    "# df_genre_status_db_VF.to_sql(name='genre_status', con=conn)\n",
    "\n",
    "# Nota: Se corre solo la primera vez. \n",
    "# Luego de guardadas en la base datos no se necesitan volver a subir. "
   ]
  },
  {
   "cell_type": "code",
   "execution_count": 115,
   "metadata": {},
   "outputs": [],
   "source": [
    "# df_country_db_VF.to_sql(name='country', con=conn)\n",
    "# df_runtime_db_VF.to_sql(name='runtime', con=conn)\n",
    "# df_ratings_db_VF.to_sql(name='ratings', con=conn)"
   ]
  },
  {
   "cell_type": "code",
   "execution_count": 116,
   "metadata": {},
   "outputs": [
    {
     "data": {
      "text/plain": [
       "[(558, 'the-holiday-movies-that-made-us-', 7.5),\n",
       " (26, 'a-teacher-', 7.7),\n",
       " (36, 'alien-worlds-', 7.3),\n",
       " (36, 'alien-worlds-', 9.0),\n",
       " (36, 'alien-worlds-', 9.0),\n",
       " (36, 'alien-worlds-', 10.0),\n",
       " (486, 'serlok-v-rossii-', 8.0),\n",
       " (653, 'why-r-u-the-series-', 6.7),\n",
       " (508, 'star-trek-discovery-', 7.8),\n",
       " (550, 'the-flight-attendant-', 7.7),\n",
       " (550, 'the-flight-attendant-', 8.0),\n",
       " (399, 'oh-mando-', 10.0),\n",
       " (327, 'looney-tunes-cartoons-', 9.5),\n",
       " (327, 'looney-tunes-cartoons-', 9.5),\n",
       " (327, 'looney-tunes-cartoons-', 9.5),\n",
       " (327, 'looney-tunes-cartoons-', 9.5),\n",
       " (327, 'looney-tunes-cartoons-', 10.0),\n",
       " (73, 'big-mouth-', 9.0),\n",
       " (73, 'big-mouth-', 8.7),\n",
       " (73, 'big-mouth-', 8.8),\n",
       " (73, 'big-mouth-', 8.7),\n",
       " (73, 'big-mouth-', 8.5),\n",
       " (73, 'big-mouth-', 8.8),\n",
       " (73, 'big-mouth-', 8.6),\n",
       " (73, 'big-mouth-', 8.8),\n",
       " (73, 'big-mouth-', 8.2),\n",
       " (73, 'big-mouth-', 8.8),\n",
       " (561, 'the-mandalorian-', 9.0),\n",
       " (656, 'wish-you-', 9.0),\n",
       " (656, 'wish-you-', 9.0),\n",
       " (557, 'the-hardy-boys-', 7.0),\n",
       " (557, 'the-hardy-boys-', 7.3),\n",
       " (557, 'the-hardy-boys-', 7.2),\n",
       " (557, 'the-hardy-boys-', 7.3),\n",
       " (557, 'the-hardy-boys-', 7.2),\n",
       " (557, 'the-hardy-boys-', 7.4),\n",
       " (557, 'the-hardy-boys-', 7.3),\n",
       " (557, 'the-hardy-boys-', 7.4),\n",
       " (557, 'the-hardy-boys-', 7.3),\n",
       " (557, 'the-hardy-boys-', 7.3),\n",
       " (557, 'the-hardy-boys-', 7.5),\n",
       " (557, 'the-hardy-boys-', 7.6),\n",
       " (557, 'the-hardy-boys-', 7.5),\n",
       " (654, 'wilmore-', 8.7),\n",
       " (473, 'rwby-', 6.3),\n",
       " (405, 'onyx-equinox-1', 8.0),\n",
       " (48, 'atlantic-crossing-', 8.3),\n",
       " (14, '30-monedas-', 9.0),\n",
       " (342, 'manner-of-death-', 10.0),\n",
       " (669, 'wwe-monday-night-raw-2', 6.0),\n",
       " (362, 'mr-iglesias-', 7.7),\n",
       " (362, 'mr-iglesias-', 7.3),\n",
       " (362, 'mr-iglesias-', 7.3),\n",
       " (362, 'mr-iglesias-', 7.7),\n",
       " (362, 'mr-iglesias-', 7.3),\n",
       " (26, 'a-teacher-', 7.2),\n",
       " (238, 'helluva-boss-', 10.0),\n",
       " (486, 'serlok-v-rossii-', 7.0),\n",
       " (653, 'why-r-u-the-series-', 9.5),\n",
       " (508, 'star-trek-discovery-', 7.9),\n",
       " (550, 'the-flight-attendant-', 8.0),\n",
       " (550, 'the-flight-attendant-', 8.3),\n",
       " (35, 'alice-in-borderland-', 8.1),\n",
       " (35, 'alice-in-borderland-', 8.2),\n",
       " (35, 'alice-in-borderland-', 7.9),\n",
       " (35, 'alice-in-borderland-', 7.4),\n",
       " (35, 'alice-in-borderland-', 7.3),\n",
       " (35, 'alice-in-borderland-', 7.5),\n",
       " (35, 'alice-in-borderland-', 7.8),\n",
       " (35, 'alice-in-borderland-', 8.0),\n",
       " (399, 'oh-mando-', 7.3),\n",
       " (594, 'tin-star-', 8.9),\n",
       " (594, 'tin-star-', 8.5),\n",
       " (594, 'tin-star-', 8.5),\n",
       " (594, 'tin-star-', 8.6),\n",
       " (594, 'tin-star-', 8.9),\n",
       " (594, 'tin-star-', 8.9),\n",
       " (580, 'the-wilds-', 8.1),\n",
       " (580, 'the-wilds-', 8.1),\n",
       " (580, 'the-wilds-', 8.4),\n",
       " (581, 'the-wilds-1', 8.2),\n",
       " (580, 'the-wilds-', 8.2),\n",
       " (580, 'the-wilds-', 7.8),\n",
       " (580, 'the-wilds-', 8.0),\n",
       " (581, 'the-wilds-1', 8.0),\n",
       " (580, 'the-wilds-', 8.1),\n",
       " (580, 'the-wilds-', 8.0),\n",
       " (561, 'the-mandalorian-', 8.9),\n",
       " (170, 'el-desorden-que-dejas-', 7.3),\n",
       " (170, 'el-desorden-que-dejas-', 7.0),\n",
       " (170, 'el-desorden-que-dejas-', 6.8),\n",
       " (170, 'el-desorden-que-dejas-', 7.0),\n",
       " (170, 'el-desorden-que-dejas-', 6.8),\n",
       " (170, 'el-desorden-que-dejas-', 7.3),\n",
       " (170, 'el-desorden-que-dejas-', 7.0),\n",
       " (170, 'el-desorden-que-dejas-', 7.0),\n",
       " (656, 'wish-you-', 9.0),\n",
       " (656, 'wish-you-', 9.0),\n",
       " (536, 'the-amber-ruffin-show-', 7.0),\n",
       " (473, 'rwby-', 6.0),\n",
       " (405, 'onyx-equinox-1', 8.0),\n",
       " (48, 'atlantic-crossing-', 8.0),\n",
       " (14, '30-monedas-', 9.0),\n",
       " (595, 'tiny-pretty-things-', 7.3),\n",
       " (595, 'tiny-pretty-things-', 6.8),\n",
       " (595, 'tiny-pretty-things-', 7.0),\n",
       " (595, 'tiny-pretty-things-', 7.3),\n",
       " (595, 'tiny-pretty-things-', 7.0),\n",
       " (595, 'tiny-pretty-things-', 6.7),\n",
       " (595, 'tiny-pretty-things-', 6.7),\n",
       " (595, 'tiny-pretty-things-', 7.0),\n",
       " (595, 'tiny-pretty-things-', 6.7),\n",
       " (595, 'tiny-pretty-things-', 6.7),\n",
       " (342, 'manner-of-death-', 10.0),\n",
       " (26, 'a-teacher-', 7.3),\n",
       " (548, 'the-e', 8.6),\n",
       " (549, 'the-expanse-5', 8.8),\n",
       " (549, 'the-expanse-5', 8.9),\n",
       " (569, 'the-ripper-', 6.0),\n",
       " (569, 'the-ripper-', 6.5),\n",
       " (569, 'the-ripper-', 6.5),\n",
       " (569, 'the-ripper-', 6.5),\n",
       " (653, 'why-r-u-the-series-', 9.5),\n",
       " (508, 'star-trek-discovery-', 8.1),\n",
       " (556, 'the-grand-tour-', 8.9),\n",
       " (576, 'the-stand-', 6.5),\n",
       " (550, 'the-flight-attendant-', 8.4),\n",
       " (478, 'schulz-saves-america-', 10.0),\n",
       " (561, 'the-mandalorian-', 9.2),\n",
       " (168, 'el-cid-', 7.7),\n",
       " (168, 'el-cid-', 7.6),\n",
       " (168, 'el-cid-', 7.8),\n",
       " (168, 'el-cid-', 7.8),\n",
       " (169, 'el-cid-1x05-e', 7.8),\n",
       " (247, 'hjem-til-jul-', 7.7),\n",
       " (247, 'hjem-til-jul-', 7.7),\n",
       " (247, 'hjem-til-jul-', 8.3),\n",
       " (247, 'hjem-til-jul-', 8.3),\n",
       " (247, 'hjem-til-jul-', 7.7),\n",
       " (247, 'hjem-til-jul-', 8.3),\n",
       " (523, 'sweet-home-', 9.2),\n",
       " (523, 'sweet-home-', 9.3),\n",
       " (523, 'sweet-home-', 9.7),\n",
       " (523, 'sweet-home-', 9.3),\n",
       " (523, 'sweet-home-', 9.3),\n",
       " (523, 'sweet-home-', 9.3),\n",
       " (523, 'sweet-home-', 9.3),\n",
       " (523, 'sweet-home-', 9.3),\n",
       " (523, 'sweet-home-', 9.7),\n",
       " (523, 'sweet-home-', 9.7),\n",
       " (656, 'wish-you-', 9.5),\n",
       " (656, 'wish-you-', 9.5),\n",
       " (127, 'creepshow-s01-spec', 6.1),\n",
       " (443, 'ravens-home-', 9.5),\n",
       " (537, 'the-amber-ruffin-show-1', 7.0),\n",
       " (473, 'rwby-', 6.5),\n",
       " (405, 'onyx-equinox-1', 8.0),\n",
       " (14, '30-monedas-', 8.8),\n",
       " (342, 'manner-of-death-', 10.0),\n",
       " (634, 'upstart-crow-s03-s', 8.5),\n",
       " (335, 'lovestruck-in-the-city-', 9.5),\n",
       " (26, 'a-teacher-', 7.7),\n",
       " (549, 'the-expanse-5', 9.2),\n",
       " (218, 'ghosts-s02-special', 8.2),\n",
       " (361, 'motherland-s02-spe', 8.3),\n",
       " (297, 'king-gary-s01-spec', 3.7),\n",
       " (508, 'star-trek-discovery-', 8.0),\n",
       " (576, 'the-stand-', 6.5),\n",
       " (89, 'bridgerton-', 7.9),\n",
       " (89, 'bridgerton-', 7.9),\n",
       " (89, 'bridgerton-', 7.9),\n",
       " (89, 'bridgerton-', 7.8),\n",
       " (89, 'bridgerton-', 8.0),\n",
       " (89, 'bridgerton-', 7.9),\n",
       " (89, 'bridgerton-', 7.7),\n",
       " (89, 'bridgerton-', 7.4),\n",
       " (151, 'disney-gallery-the', 9.0),\n",
       " (656, 'wish-you-', 9.0),\n",
       " (656, 'wish-you-', 9.5),\n",
       " (323, 'letterkenny-', 7.2),\n",
       " (323, 'letterkenny-', 8.0),\n",
       " (323, 'letterkenny-', 7.8),\n",
       " (323, 'letterkenny-', 8.3),\n",
       " (323, 'letterkenny-', 8.3),\n",
       " (323, 'letterkenny-', 7.2),\n",
       " (323, 'letterkenny-', 8.0),\n",
       " (191, 'fast-furious-spy-racers-', 8.4),\n",
       " (191, 'fast-furious-spy-racers-', 8.6),\n",
       " (191, 'fast-furious-spy-racers-', 9.0),\n",
       " (191, 'fast-furious-spy-racers-', 9.2),\n",
       " (191, 'fast-furious-spy-racers-', 9.2),\n",
       " (191, 'fast-furious-spy-racers-', 9.0),\n",
       " (191, 'fast-furious-spy-racers-', 9.0),\n",
       " (192, 'fast-furious-spy-racers-3', 9.4),\n",
       " (405, 'onyx-equinox-1', 8.0),\n",
       " (405, 'onyx-equinox-1', 8.0),\n",
       " (405, 'onyx-equinox-1', 8.0),\n",
       " (405, 'onyx-equinox-1', 8.0),\n",
       " (405, 'onyx-equinox-1', 8.0),\n",
       " (405, 'onyx-equinox-1', 8.0),\n",
       " (405, 'onyx-equinox-1', 8.0),\n",
       " (14, '30-monedas-', 8.4),\n",
       " (411, 'outlier-', 7.0),\n",
       " (411, 'outlier-', 7.5),\n",
       " (411, 'outlier-', 7.5),\n",
       " (411, 'outlier-', 7.0),\n",
       " (411, 'outlier-', 7.7),\n",
       " (411, 'outlier-', 6.7),\n",
       " (411, 'outlier-', 8.0),\n",
       " (411, 'outlier-', 7.0),\n",
       " (342, 'manner-of-death-', 10.0),\n",
       " (669, 'wwe-monday-night-raw-2', 6.5),\n",
       " (156, 'dr-pimple-popper-', 8.5),\n",
       " (26, 'a-teacher-', 7.3),\n",
       " (111, 'color-rush-', 10.0),\n",
       " (549, 'the-expanse-5', 8.9),\n",
       " (610, 'transformers-war-for-cybertron-trilogy-', 7.0),\n",
       " (610, 'transformers-war-for-cybertron-trilogy-', 7.0),\n",
       " (610, 'transformers-war-for-cybertron-trilogy-', 7.0),\n",
       " (610, 'transformers-war-for-cybertron-trilogy-', 7.0),\n",
       " (610, 'transformers-war-for-cybertron-trilogy-', 7.0),\n",
       " (610, 'transformers-war-for-cybertron-trilogy-', 7.0),\n",
       " (176, 'equinox-1', 8.4),\n",
       " (176, 'equinox-1', 7.8),\n",
       " (176, 'equinox-1', 7.7),\n",
       " (176, 'equinox-1', 7.8),\n",
       " (176, 'equinox-1', 8.0),\n",
       " (176, 'equinox-1', 8.2),\n",
       " (111, 'color-rush-', 9.5),\n",
       " (508, 'star-trek-discovery-', 8.2),\n",
       " (329, 'loudermilk-', 7.7),\n",
       " (329, 'loudermilk-', 7.7),\n",
       " (329, 'loudermilk-', 7.7),\n",
       " (329, 'loudermilk-', 6.3),\n",
       " (329, 'loudermilk-', 7.7),\n",
       " (329, 'loudermilk-', 7.3),\n",
       " (329, 'loudermilk-', 7.7),\n",
       " (329, 'loudermilk-', 7.3),\n",
       " (329, 'loudermilk-', 7.7),\n",
       " (329, 'loudermilk-', 7.7),\n",
       " (104, 'chilling-adventures-of-sabrina-', 7.8),\n",
       " (104, 'chilling-adventures-of-sabrina-', 7.7),\n",
       " (104, 'chilling-adventures-of-sabrina-', 7.2),\n",
       " (104, 'chilling-adventures-of-sabrina-', 7.7),\n",
       " (105, 'chilling-adventures-of-sabrina-4', 7.4),\n",
       " (104, 'chilling-adventures-of-sabrina-', 7.0),\n",
       " (104, 'chilling-adventures-of-sabrina-', 7.4),\n",
       " (105, 'chilling-adventures-of-sabrina-4', 6.0),\n",
       " (576, 'the-stand-', 6.6),\n",
       " (95, 'carl-webers-the-family-business-', 4.5)]"
      ]
     },
     "execution_count": 116,
     "metadata": {},
     "output_type": "execute_result"
    }
   ],
   "source": [
    "cursor.execute('SELECT id_serie, Serie, Avg_rating From ratings')\n",
    "cursor.fetchall()"
   ]
  },
  {
   "cell_type": "code",
   "execution_count": null,
   "metadata": {},
   "outputs": [],
   "source": [
    "conn.close()"
   ]
  },
  {
   "cell_type": "markdown",
   "metadata": {},
   "source": [
    "## (6) ETL"
   ]
  },
  {
   "cell_type": "code",
   "execution_count": null,
   "metadata": {},
   "outputs": [],
   "source": [
    "# Creacion del archivo config.py\n",
    "# Creacion del archivo tv_series_db.py\n",
    "# Resultados transformado y cargados a un archivo 'tv_series_db.csv'\n",
    "# Archivos adjuntos al proyecto"
   ]
  }
 ],
 "metadata": {
  "kernelspec": {
   "display_name": "Python 3.9.13 64-bit (microsoft store)",
   "language": "python",
   "name": "python3"
  },
  "language_info": {
   "codemirror_mode": {
    "name": "ipython",
    "version": 3
   },
   "file_extension": ".py",
   "mimetype": "text/x-python",
   "name": "python",
   "nbconvert_exporter": "python",
   "pygments_lexer": "ipython3",
   "version": "3.9.13"
  },
  "orig_nbformat": 4,
  "vscode": {
   "interpreter": {
    "hash": "98171255d14943fb312a3ced32bc41f1ba1082196510a3a27b46e64306024b66"
   }
  }
 },
 "nbformat": 4,
 "nbformat_minor": 2
}
